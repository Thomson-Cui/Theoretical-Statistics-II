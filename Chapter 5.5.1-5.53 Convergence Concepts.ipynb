{
 "cells": [
  {
   "cell_type": "markdown",
   "metadata": {},
   "source": [
    "# Convergence concepts"
   ]
  },
  {
   "cell_type": "markdown",
   "metadata": {},
   "source": [
    "- Behavior of sample statistics as sample size approaches infinity\n",
    "    - \"somewhat fanciful idea\"\n",
    "    - Mostly used to find approximations to use for finite sample sizes\n",
    "- We are interested in sequences of random variables\n",
    "    $$X_1, X_2, X_3,...$$\n",
    "    - Do the distribution of $X_n$ converge to a limiting distribution\n",
    "- In particular we are very interested in the sequence\n",
    "$$\\bar{X_1},\\bar{X_2},\\bar{X_3},...\\text{ where }\\bar{X_n}=\\frac{1}{n}\\sum_{i=1}^{n}X_i$$"
   ]
  },
  {
   "cell_type": "markdown",
   "metadata": {},
   "source": [
    "## Limits - review\n",
    "- Limit of a sequence of real numbers, $a_1,a_2,a_3,...$\n",
    "    $$\\lim_{n\\to\\infty}a_n=b,\\text{ or: }a_n\\to b \\text{ as }n\\to\\infty$$\n",
    "    - Meaning: For any real number $\\epsilon>0$, there exists a natural number $N$ such that for all $n>N$ we have $|a_n-b|<\\epsilon$\n",
    "- Limit of a function $f:\\mathbb{R}\\to\\mathbb{R}$\n",
    "    $$\\lim_{x\\to c}f(x)=b\\text{ or: }f(x)\\to b \\text{ as }x\\to c$$\n",
    "    - Meaning: For any real number $\\epsilon>0$, there exists a real number $\\delta>0$ such that $|x-c|<\\delta$ we have $|f(x)-b|<\\epsilon$."
   ]
  },
  {
   "cell_type": "markdown",
   "metadata": {},
   "source": [
    "## Limits - for random variables\n",
    "- What does a limit for a sequence of random variables mean?\n",
    "    $$\\lim_{n\\to\\infty}X_n=X$$\n",
    "- $|X_n-X|$ is a random variable\n",
    "- Or do we just care about the limits of the distributions of $X_n$ i.e. the cdfs $F_n(x)$?\n",
    "- Manny ways of defining convergence for random variables"
   ]
  },
  {
   "cell_type": "markdown",
   "metadata": {},
   "source": [
    "# Different Convergence Concepts\n",
    "\n",
    "- Converges in probability Section 5.5.1\n",
    "    - Weak law of large numbers\n",
    "- Converges almost surely Section 5.5.2\n",
    "    - Strong law of large numbers\n",
    "- Converges in distribution Section 5.5.3\n",
    "- Weak and strong law of large numbers\n",
    "- Central Limit Theorem!\n",
    "- Slutskys’s Theorem\n",
    "- Delta Method Section 5.5.4"
   ]
  },
  {
   "cell_type": "markdown",
   "metadata": {},
   "source": [
    "## Convergence Concept: In probability\n",
    "\n",
    "**Define: Convergence in probability**\n",
    "\n",
    "A sequence of random variables $X_1,X_2,X_3,...$ converges in probability to a random variable $X$ if for any real number $\\epsilon>0$,\n",
    "\n",
    "$$\\lim_{n\\to\\infty}P(|X_n-X|\\geq\\epsilon)=0$$\n",
    "\n",
    "or equivalently:\n",
    "\n",
    "$$\\lim_{n\\to\\infty}P(|X_n-X|<\\epsilon)=1$$\n",
    "\n",
    "- Notation for convergence in probability:\n",
    "\n",
    "$$X_n\\xrightarrow{p}X,\\text{ as }n\\to\\infty$$\n",
    "\n",
    "- Things to note about the definition\n",
    "    - $P(|X_n-X|\\geq\\epsilon)$ is a sequence of numbers $P_n$\n",
    "\n",
    "    - $P(|X_n-X|\\geq\\epsilon)$ involves 2 random variables $\\Rightarrow$ need the joint distribution of $X_n$ and $X$ to evaluate\n",
    "- We are often interested in the special case when $X$ is a constant, i.e.\n",
    "$$X_n\\xrightarrow{p}a\\text{ as }n\\to\\infty$$"
   ]
  },
  {
   "cell_type": "markdown",
   "metadata": {},
   "source": [
    "### Weak law of large numbers\n",
    "**WLLN:** (one convergence in probability)\n",
    "\n",
    "Let $X_1,X_2,X_3,...$ be a sequence of iid. random variables with $E(X_i)=\\mu$ and $Var(X_i)=\\sigma^2<\\infty$. Define\n",
    "$$\\bar{X}_n=\\frac{1}{n}\\sum_{i=1}^{n}X_i$$\n",
    "Then:\n",
    "$$\\bar{X}_n\\xrightarrow{p}\\mu\\text{ as }n\\to\\infty$$\n",
    "Notice that even though $X_1,X_2,X_3,...$ are independent, $\\bar{X}_1,\\bar{X}_2,\\bar{X}_3,...$ are not independent.\n",
    "\n",
    "**Proof:**\n",
    "\n",
    "Since $X_1,X_2,X_3...$ are iid, then for any $n$, we have $E(\\bar{X}_n)=\\mu$ and $Var(\\bar{X}_n)=E((\\bar{X}_n-\\mu)^2)=\\frac{\\sigma^2}{n}<\\infty$.\n",
    "\n",
    "We want to show that:\n",
    "\n",
    "$\\lim_{n\\to\\infty}P(|X_n-\\mu|\\geq\\epsilon)=0,\\forall\\epsilon>0$\n",
    "\n",
    "Recall the chebychev inequality:\n",
    "\n",
    "If $g(x)$ is a non-negative function, then for any $r>0$, $P(g(x)\\geq r)\\leq\\frac{E(g(x))}{r}$, for any random variable $X$.\n",
    "\n",
    "Let's set $g(x)=(x-\\mu)^2$.\n",
    "\n",
    "For any $n\\in N$,\n",
    "\n",
    "$\\begin{aligned}\n",
    "P_n\n",
    "&=P(|\\bar{X}_n-\\mu|\\geq\\epsilon)\\\\\n",
    "&=P((\\bar{X}_n-\\mu)^2\\geq\\epsilon^2)\\\\\n",
    "&\\leq\\frac{E((\\bar{X}_n-\\mu)^2)}{\\epsilon^2}=\\frac{Var(\\bar{X}_n)}{\\epsilon^2}=\\frac{1}{\\epsilon^2}\\frac{\\sigma^2}{n}=a_n\n",
    "\\end{aligned}$\n",
    "\n",
    "$a_n\\to 0\\text{ as }n\\to\\infty$\n",
    "\n",
    "$\\lim_{n\\to\\infty}P_n\\leq \\lim_{n\\to\\infty}a_n=0$ and $P_n\\geq 0$\n",
    "\n",
    "$\\lim_{n\\to\\infty}P(|\\bar{X}_n-\\mu\\geq\\epsilon|)=0$\n",
    "\n",
    "Therefore, we get $\\bar{X}_n\\xrightarrow{p}\\mu\\text{ as }n\\to\\infty$."
   ]
  },
  {
   "cell_type": "markdown",
   "metadata": {},
   "source": [
    "## Consistent estimators\n",
    "- Since $\\bar{X}_n\\xrightarrow{p}\\mu$, we say that $\\bar{X}_n$ is a consistent estimator of $\\mu$\n",
    "- Can also show that $S_n^2$ is a consistent estimator of $\\sigma^2$ for most distributions (see textbook)\n",
    "\n",
    "    $S_n^2=\\frac{1}{n-1}\\sum_{i=1}^n(X_i-\\bar{X}_n)^2$\n",
    "\n",
    "    $\\begin{aligned}\n",
    "    P(|S_n^2-\\sigma^2|\\geq\\epsilon)&=P((S_n^2-\\sigma^2)^2\\geq\\epsilon^2)\\\\\n",
    "                                   &\\leq\\frac{E((S_n^2-\\sigma^2)^2)}{\\epsilon^2}=\\frac{Var(S_n^2)}{\\epsilon^2}\n",
    "    \\end{aligned}$\n",
    "\n",
    "    All we need is that $Var(S_n^2)\\to 0$ as $n\\to\\infty$\n",
    "\n",
    "    In fact $Var(S_n^2)=\\frac{1}{n}(\\theta_4-\\frac{n-3}{n-1}\\theta_2^2)$, where $\\theta_4=E((X_i-\\mu)^4),\\theta_2=\\sigma^2=E((X_i-\\mu)^2)$\n",
    "\n",
    "    If $\\theta_2$ and $\\theta_4$ are finity ($<\\infty$), then $Var(S_n^2)\\to 0$.\n",
    "\n",
    "    Thus, $\\lim_{n\\to\\infty}P(|S_n^2-\\sigma^2|\\geq\\epsilon)=0$.\n",
    "\n",
    "    $S_n^2\\xrightarrow{p}\\sigma^2$ as $n\\to\\infty,\\theta_2$ and $\\theta_4$ are finity.\n"
   ]
  },
  {
   "cell_type": "markdown",
   "metadata": {},
   "source": [
    "## More on convergence in probability\n",
    "**Theorem:**\n",
    "\n",
    "If $X_n\\xrightarrow{p}X$ and $h(x)$ is a continuous function then $h(X_n)\\xrightarrow{p}h(X)$.\n",
    "\n",
    "Example:\n",
    "\n",
    "- Since $\\bar{X}_n\\xrightarrow{p}\\mu$, then $\\bar{X}_n^2\\xrightarrow{p}\\mu^2$.\n",
    "- Since $S_n^2\\xrightarrow{p}\\sigma^2$, then $S_n\\xrightarrow{p}\\sigma$."
   ]
  },
  {
   "cell_type": "markdown",
   "metadata": {},
   "source": [
    "## Convergence Concept: Almost Surely\n",
    "\n",
    "**Def: Convergence almost surely**\n",
    "\n",
    "A sequence of random variables $X_1,X_2,X_3,...$ converges almost surely to a random variable $X$ if for any real number $\\epsilon>0$，\n",
    "\n",
    "$$P(\\lim_{n\\to\\infty}|X_n-X|<\\epsilon)=1$$\n",
    "\n",
    "- Notation for convergence almost surely:\n",
    "\n",
    "$$X_n\\xrightarrow{as}X$$\n",
    "\n",
    "- Recall: A random varibale $X_n$ is a function from sample space to $\\mathbb{R}$\n",
    "\n",
    "    $$P(\\lim_{n\\to\\infty}|X_n-X|<\\epsilon)=1$$\n",
    "\n",
    "    - Meaning: $X_1(s),X_2(s),X_3(s),...$ converges to $X(s)$\n",
    "\n",
    "        $$X_n(s)\\to X(s)$$\n",
    "\n",
    "        for all $s\\in S$, except perhaps for outcomes $s$ in a probability zero region\n",
    "- Stronger convergence than in probability, but trickier to work with i.e.\n",
    "    If $X_n\\xrightarrow{as}X$ then $X_n\\xrightarrow{p}X$\n",
    "- Again, we are often interested in the special case when $X$ is a constant, i.e.\n",
    "    $$X_n\\xrightarrow{as}a$$\n"
   ]
  },
  {
   "cell_type": "markdown",
   "metadata": {},
   "source": [
    "### Strong law of large numbers\n",
    "\n",
    "**SLLN**\n",
    "\n",
    "Let $X_1,X_2,...,X_n$ be a sequence of iid. random variables with $E(X_i)=\\mu$ and $Var(X_i)=\\sigma^2<\\infty$. Define \n",
    "\n",
    "$$\\bar{X}_n=\\frac{1}{n}\\sum_{i=1}^nX_i$$\n",
    "\n",
    "Then:\n",
    "\n",
    "$$\\bar{X}_n\\xrightarrow{as}\\mu$$\n",
    "\n",
    "- Both WLLN and SLLN can actually be proven without the $Var(X_i)<\\infty$ assumpation."
   ]
  },
  {
   "cell_type": "markdown",
   "metadata": {},
   "source": [
    "## Laws of large numbers\n",
    "Example:\n",
    "- Suppose $X_1,X_2,X_3,...$ are i.i.d. $Bernoulli(p)$\n",
    "    - $E(X_i)=p$\n",
    "- Let $\\bar{X}_n=\\frac{1}{n}\\sum_{i=1}^nX_i$=sample proportion of success\n",
    "- Weak and Strong LLN:\n",
    "    - $\\bar{X}_n\\xrightarrow{p}p$\n",
    "    - $\\bar{X}_n\\xrightarrow{as}p$"
   ]
  },
  {
   "cell_type": "markdown",
   "metadata": {},
   "source": [
    "## Extra notes from OpenAI\n",
    "\n",
    "The **Weak Law of Large Numbers (WLLN)** and the **Strong Law of Large Numbers (SLLN)** differ in terms of the **mode of convergence** and the **strength of their conclusions**. Here’s a detailed comparison:\n",
    "\n",
    "---\n",
    "\n",
    "### 1. **Weak Law of Large Numbers (WLLN)**\n",
    "- **Description**: As the sample size $n$ grows infinitely large, the sample mean $ \\bar{X}_n $ converges to the population mean $ \\mu $ **in probability**.\n",
    "- **Mathematical Expression**:\n",
    "  $\n",
    "  \\forall \\epsilon > 0, \\quad \\lim_{n \\to \\infty} P(|\\bar{X}_n - \\mu| \\geq \\epsilon) = 0\n",
    "  $\n",
    "  This means the probability of the sample mean $ \\bar{X}_n $ deviating from the true mean $ \\mu $ by more than any small positive number $ \\epsilon $ becomes arbitrarily small as $ n \\to \\infty $.\n",
    "- **Type of Convergence**: **Convergence in Probability**.\n",
    "  $\n",
    "  \\bar{X}_n \\xrightarrow{P} \\mu\n",
    "  $\n",
    "- **Intuitive Understanding**: As the sample size increases, the sample mean is **very likely** to get closer to the true mean, but this doesn’t guarantee it happens in every single instance.\n",
    "\n",
    "---\n",
    "\n",
    "### 2. **Strong Law of Large Numbers (SLLN)**\n",
    "- **Description**: As the sample size $n$ grows infinitely large, the sample mean $ \\bar{X}_n $ converges to the population mean $ \\mu $ **almost surely** (with probability 1).\n",
    "- **Mathematical Expression**:\n",
    "  $\n",
    "  P\\left(\\lim_{n \\to \\infty} \\bar{X}_n = \\mu \\right) = 1\n",
    "  $\n",
    "  This means that, eventually, the sample mean $ \\bar{X}_n $ **will almost surely** approach the true mean $ \\mu $, no matter how the random samples fluctuate.\n",
    "- **Type of Convergence**: **Almost Sure Convergence**.\n",
    "  $\n",
    "  \\bar{X}_n \\xrightarrow{\\text{a.s.}} \\mu\n",
    "  $\n",
    "- **Intuitive Understanding**: Regardless of the randomness in sampling, as the sample size grows, the sample mean **will definitely** converge to the true mean.\n",
    "\n",
    "---\n",
    "\n",
    "### 3. **Key Differences**\n",
    "\n",
    "| Feature              | Weak Law of Large Numbers (WLLN)            | Strong Law of Large Numbers (SLLN)          |\n",
    "|----------------------|---------------------------------------------|---------------------------------------------|\n",
    "| **Convergence Type**  | Convergence in Probability                 | Almost Sure Convergence                     |\n",
    "| **Strength**          | Describes that the sample mean is **likely** close to the true mean. | Guarantees the sample mean will **almost certainly** converge to the true mean. |\n",
    "| **Precision**         | Relatively weaker conclusion.              | Stronger, more rigorous conclusion.         |\n",
    "| **Applicability**     | Focuses on how **likely** the mean converges. | Focuses on the **certainty** of convergence. |\n",
    "\n",
    "---\n",
    "\n",
    "### Summary\n",
    "The **Weak Law** deals with how **likely** the sample mean is to approach the true mean, while the **Strong Law** guarantees that it will **almost certainly** converge to the true mean. Simply put, the **WLLN speaks about probabilities**, whereas the **SLLN speaks about inevitability**.\n"
   ]
  },
  {
   "cell_type": "markdown",
   "metadata": {},
   "source": [
    "## Convergence Concept: In distribution\n",
    "**Define: Convergence in distribution**\n",
    "\n",
    "A sequence of random variables $X_1,X_2,X_3,...$ converges in distribution to a random variable $X$ if\n",
    "\n",
    "$$\\lim_{n\\to\\infty}F_{X_n}(x)=F_X(x)$$\n",
    "\n",
    "for all $x$ where $F_X(x)$ is continuous.\n",
    "\n",
    "- Implied notation: $F_{X_n}(x)$ is the cdf of $X_n$, $F_X(x)$ is the cdf of $X$\n",
    "- Notation for convergence in distribution:\n",
    "    $$X_n\\xrightarrow{d}X$$"
   ]
  },
  {
   "cell_type": "markdown",
   "metadata": {},
   "source": [
    "## Convergence in distribution\n",
    "- Convergence of functions (cdfs)\n",
    "    $$\\lim_{n\\to\\infty}F_{X_n}(x)=F_X(x)$$\n",
    "- If pdf/pmf exists and $\\lim_{n\\to\\infty}f_{X_n}(x)=f_X(x)$ for all $x\\in\\mathbb{R}$ then $X_n\\xrightarrow{d}X$\n",
    "- Saw in STAT 345/445: if mgfs exists and\n",
    "    \n",
    "    $\\lim_{n\\to\\infty}M_{X_n}(t)=M_X(t)$  \n",
    "\n",
    "    for all $t$ in a neighborhood of 0, then $X_n\\xrightarrow{d}X$  \n",
    "- mgfs (and pdfs) are sometimes easier to work with\n",
    "    - e.g. $F(x)$ for $N(\\mu,\\sigma^2)$ is not available in closed form, but its $M_X(t)=e^{\\mu t+t^2\\sigma^2/2}$"
   ]
  },
  {
   "cell_type": "markdown",
   "metadata": {},
   "source": [
    "### Example:\n",
    "Let $X_1,X_2,...$ be iid. $Uniform(0,\\theta)$ and let $X_{(n)}=max_{1\\leq i\\leq n}X_n$, show that $X_{(n)}\\xrightarrow{d}\\theta$ and $X_{(n)}\\xrightarrow{p}\\theta$."
   ]
  },
  {
   "cell_type": "markdown",
   "metadata": {},
   "source": [
    "#### 1: show $X_{(n)}\\xrightarrow{d}\\theta$\n",
    "Have $f(x_i)= \\frac{1}{\\theta}I_{[0,\\theta]}(x_i),I_{[0,\\theta]}(x)=\\begin{cases} 1,&\\text{if }x_{i\\in[0,\\theta]} \\\\\n",
    "0,&\\text{otherwise}\\end{cases}$\n",
    "\n",
    "Also have $F(x_i)=\\begin{cases}0,&\\text{for }x_i<0\\\\\\frac{x_i}{\\theta},&\\text{for }x_i\\in[0,\\theta)\\\\1,&\\text{for }x_i\\geq\\theta\\end{cases}$\n",
    "\n",
    "Cdf for $X_{(n)}:$\n",
    "\n",
    "$\\begin{aligned}\n",
    "F_{X_{(n)}}(x)&=P(X_{(n)}\\leq x)\\\\\n",
    "           &=P(X_{1}\\leq x)\\cdot P(X_{2}\\leq x)\\cdot P(X_{3}\\leq x)...P(X_{n}\\leq x),(\\text{ since iid})\\\\\n",
    "           &=F_{X_1}(x)\\cdot F_{X_2}(x)\\cdot F_{X_3}(x)...F_{X_n}(x)=(F(x))^n\n",
    "\\end{aligned}$\n",
    "\n",
    "$\\begin{aligned}\n",
    "F_{X_{(n)}}(x)=\\begin{cases}\n",
    "                    0,&\\text{for }x<0 \\\\\n",
    "                    (\\frac{x}{\\theta})^n,&\\text{for }x\\in[0,\\theta)\\\\\n",
    "                    1,&\\text{for }x\\geq\\theta    \n",
    "                 \\end{cases}\n",
    "\\end{aligned}$\n",
    "\n",
    "$\\lim_{n\\to\\infty}F_{X_n}(x)=\\begin{cases}0,&x<\\theta\\\\1,&x\\geq\\theta\\end{cases}$"
   ]
  },
  {
   "cell_type": "code",
   "execution_count": 1,
   "metadata": {},
   "outputs": [
    {
     "data": {
      "image/png": "[encoded data removed]",
      "text/plain": [
       "<Figure size 800x500 with 1 Axes>"
      ]
     },
     "metadata": {},
     "output_type": "display_data"
    }
   ],
   "source": [
    "import numpy as np\n",
    "import matplotlib.pyplot as plt\n",
    "\n",
    "# Define the step function for the limiting CDF\n",
    "def limiting_cdf(x, theta):\n",
    "    return np.where(x < theta, 0, 1)\n",
    "\n",
    "# Generate x values and define θ\n",
    "x = np.linspace(-1, 2, 1000)\n",
    "theta = 1  # You can replace this with any value for θ\n",
    "\n",
    "# Calculate the CDF values\n",
    "y = limiting_cdf(x, theta)\n",
    "\n",
    "# Plot the limiting CDF with custom annotations for θ and 1\n",
    "plt.figure(figsize=(8, 5))\n",
    "\n",
    "# Plot the step function\n",
    "plt.plot(x, y, color='blue')\n",
    "\n",
    "# Add dashed line for θ\n",
    "plt.axvline(x=theta, color='red', linestyle='--', linewidth=0.8, alpha=0.7)\n",
    "\n",
    "# Remove default ticks\n",
    "plt.xticks([])  # Remove x-axis ticks\n",
    "\n",
    "# Add custom labels\n",
    "plt.text(theta, -0.1, r\"$\\theta$\", fontsize=12, color='red')  # θ on x-axis\n",
    "\n",
    "# Add a grid for clarity\n",
    "plt.grid(alpha=0.4)\n",
    "\n",
    "# Set axis limits\n",
    "plt.ylim(-0.1, 1.1)\n",
    "plt.xlim(-1, 2)\n",
    "\n",
    "# Title and show plot\n",
    "plt.title(r\"Limiting CDF $\\lim_{n \\to \\infty} F_{X_n}(x)$\", fontsize=14)\n",
    "plt.xlabel(\"\")\n",
    "plt.ylabel(\"\")\n",
    "plt.show()\n"
   ]
  },
  {
   "cell_type": "markdown",
   "metadata": {},
   "source": [
    "This is the CDF of a constant random variable equal to $\\theta$, therefore: $X_{(n)}\\xrightarrow{d}\\theta$."
   ]
  },
  {
   "cell_type": "code",
   "execution_count": 2,
   "metadata": {},
   "outputs": [
    {
     "data": {
      "image/png": "[encoded data removed]",
      "text/plain": [
       "<Figure size 800x500 with 1 Axes>"
      ]
     },
     "metadata": {},
     "output_type": "display_data"
    }
   ],
   "source": [
    "import numpy as np\n",
    "import matplotlib.pyplot as plt\n",
    "\n",
    "# Define the step function for the limiting CDF\n",
    "def limiting_cdf(x, theta):\n",
    "    return np.where(x < theta, 0, 1)\n",
    "\n",
    "# Generate x values and define θ\n",
    "x = 1\n",
    "\n",
    "# Calculate the CDF values\n",
    "y = 1\n",
    "\n",
    "# Plot the limiting CDF with custom annotations for θ and 1\n",
    "plt.figure(figsize=(8, 5))\n",
    "\n",
    "# Plot the step function\n",
    "plt.scatter(x, y, color='blue')\n",
    "\n",
    "# Add dashed line for θ\n",
    "plt.axvline(x=theta, color='red', linestyle='--', linewidth=0.8, alpha=0.7)\n",
    "\n",
    "# Remove default ticks\n",
    "plt.xticks([])  # Remove x-axis ticks\n",
    "\n",
    "# Add custom labels\n",
    "plt.text(theta, -0.1, r\"$\\theta$\", fontsize=12, color='red')  # θ on x-axis\n",
    "\n",
    "# Add a grid for clarity\n",
    "plt.grid(alpha=0.4)\n",
    "\n",
    "# Set axis limits\n",
    "plt.ylim(-0.1, 1.1)\n",
    "plt.xlim(-1, 2)\n",
    "\n",
    "# Title and show plot\n",
    "plt.title(r\"Limiting pmf $\\lim_{n \\to \\infty} f_{X_n}(x)$\", fontsize=14)\n",
    "plt.xlabel(\"\")\n",
    "plt.ylabel(\"\")\n",
    "plt.show()"
   ]
  },
  {
   "cell_type": "markdown",
   "metadata": {},
   "source": [
    "This is the pmf of a constant random variable equal to $\\theta$, therefore: $X_{(n)}\\xrightarrow{d}\\theta$."
   ]
  },
  {
   "cell_type": "markdown",
   "metadata": {},
   "source": [
    "#### 2: show $X_{(n)}\\xrightarrow{p}\\theta$\n",
    "For proving $X_{(n)}\\xrightarrow{p}\\theta$, we need to consider $\\lim_{n\\to\\infty}P(|X_{(n)}\\to\\theta|\\geq\\epsilon)=0,\\forall\\epsilon>0$\n",
    "\n",
    "$\\begin{aligned}\n",
    "P_n&=P(|X_{(n)}-\\theta|\\geq\\epsilon),\\text{ since }X_{(n)}\\in[0,\\theta]\\\\\n",
    "   &=P(\\theta-X_{(n)}\\geq\\epsilon)\\\\\n",
    "   &=P(X_{(n)}\\leq\\theta-\\epsilon)\\\\\n",
    "   &=F_{X_{(n)}}(\\theta-\\epsilon)\\\\\n",
    "   &=(\\frac{\\theta-\\epsilon}{\\theta})^n\\to 0\\text{ as }n\\to\\infty\\\\\n",
    "   &\\Rightarrow P_n\\to 0 \\text{ as }n\\to\\infty\\\\\n",
    "   &\\Rightarrow X_{(n)}\\xrightarrow{p}\\theta\n",
    "\\end{aligned}$"
   ]
  },
  {
   "cell_type": "markdown",
   "metadata": {},
   "source": [
    "# Integration of Convergence ($*$)\n",
    "\n",
    "$$X_n\\xrightarrow{as}X\\Rightarrow X_n\\xrightarrow{p}X \\Rightarrow X_n\\xrightarrow{d}X$$\n",
    "$$X_n\\xrightarrow{as}X\\Rightarrow X_n\\xrightarrow{p}X \\Leftrightarrow X_n\\xrightarrow{d}X,\\text{if }X=a(\\text{constant})$$\n",
    "\n",
    "#### Theorem: Conv. almost surely $\\Rightarrow$ Conv in probability\n",
    "If a sequence of random variables $X_1,X_2,X_3,...$ converges almost surely to a random variable $X$ the sequence converves also in probability to $X$.\n",
    "- In compact notation:\n",
    "    $$\\text{If }X_n\\xrightarrow{as}X,\\text{ then }X_n\\xrightarrow{p}X$$\n",
    "\n",
    "#### Theorem: Conv. in prob. $\\Rightarrow$ Conv. in distribution\n",
    "If a sequence of random variables $X_1,X_2,X_3,...$ converges in probability to a random variable $X$ the sequence converges also in distribution to $X$.\n",
    "- In compact notation:\n",
    "    $$\\text{If }X_n\\xrightarrow{p}X,\\text{ then }X_n\\xrightarrow{d}X$$\n",
    "- We also get $\\Leftarrow$ if $X$ is a constant, i.e.\n",
    "    $$\\text{If }X_n\\xrightarrow{d}a,\\text{ then }X_n\\xrightarrow{p}a$$"
   ]
  }
 ],
 "metadata": {
  "kernelspec": {
   "display_name": "base",
   "language": "python",
   "name": "python3"
  },
  "language_info": {
   "codemirror_mode": {
    "name": "ipython",
    "version": 3
   },
   "file_extension": ".py",
   "mimetype": "text/x-python",
   "name": "python",
   "nbconvert_exporter": "python",
   "pygments_lexer": "ipython3",
   "version": "3.9.13"
  }
 },
 "nbformat": 4,
 "nbformat_minor": 2
}
