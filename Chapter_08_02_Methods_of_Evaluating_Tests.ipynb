{
 "cells": [
  {
   "cell_type": "markdown",
   "metadata": {},
   "source": [
    "## Evaluating Hypothesisi tests\n",
    "\n",
    "Hypothesis: $H_0:\\theta\\in\\Theta_0$ vs. $H_1: \\theta\\in\\Theta^c_0$\n",
    "\n",
    "Test procedure: Reject $H_0$ if $\\mathbf{X}\\in R$\n",
    "\n",
    "- Can make two types of mistakes\n",
    "    - Reject $H_0:\\theta\\in\\Theta_0$ when in fact $\\theta\\in\\Theta_0$ (Type I)\n",
    "    - Don't reject $H_0:\\theta\\in\\Theta_0$ when in fact $\\theta\\notin\\Theta_0$ (Type II)\n",
    "- Want the *probability* of mistakes to be small\n",
    "\n",
    "    $P_\\theta(\\mathbf{X}\\in R)=$ probability of rejecting $H_0$, which depends on the unknown $\\theta$\n",
    "- Recall LRT: Reject $H_0$ if $\\lambda(\\mathbf{X})\\leq c$\n",
    "    - $c$ determines the probability of these mistakes\n"
   ]
  },
  {
   "cell_type": "markdown",
   "metadata": {},
   "source": [
    "## The challenge of finding a good test procedure\n",
    "\n",
    "Choose $R$ (i.e. $c$ in the LRT procedure) such that:\n",
    "- $P_\\theta(\\mathbf{X}\\in R)$ is small for all $\\theta\\in\\Theta_0$\n",
    "    - Low probability of Type I error\n",
    "    - Don't want to reject $H_0$ when it is true\n",
    "- and $P_\\theta(\\mathbf{X}\\in R^c)$ is small for all $\\theta\\in\\Theta^c_0$\n",
    "    - Low probability of Type II error\n",
    "    - Don't want to accept $H_0$ when it is false\n",
    "    - Equivalently: want large $P_\\theta(\\mathbf{X}\\in R)$ for all $\\theta\\in\\Theta^c_0$"
   ]
  },
  {
   "cell_type": "markdown",
   "metadata": {},
   "source": [
    "## Power function\n",
    "\n",
    "Describes the properties of a test procedure\n",
    "\n",
    "Hypothesis: $H_0:\\theta\\in\\Theta_0$ vs. $H_1: \\theta\\in\\Theta^c_0$\n",
    "\n",
    "Test procedure: Reject $H_0$ if $\\mathbf{X}\\in R$\n",
    "\n",
    "**Def: Power function**\n",
    "\n",
    "The **power function** of a test procedure is the *probability of rejecting* $H_0$ (function of $\\theta$)\n",
    "\n",
    "$\\beta(\\theta)=P_\\theta(\\mathbf{X}\\in R)$ for all $\\theta\\in\\Theta$\n",
    "\n",
    "where $R$ is the rejection region of the test.\n",
    "\n",
    "- Ideal power function:\n",
    "\n",
    "    $\\beta(\\theta)=1$ for $\\theta\\in\\Theta^c_0$ (want to reject)\n",
    "\n",
    "    $\\beta(\\theta)=0$ for $\\theta\\in\\Theta_0$ (don't want to reject)\n"
   ]
  }
 ],
 "metadata": {
  "language_info": {
   "name": "python"
  }
 },
 "nbformat": 4,
 "nbformat_minor": 2
}
