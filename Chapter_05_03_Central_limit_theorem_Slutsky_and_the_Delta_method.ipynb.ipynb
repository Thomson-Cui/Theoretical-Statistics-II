{
 "cells": [
  {
   "cell_type": "markdown",
   "metadata": {},
   "source": [
    "# Central Limit Theorem, Slutsky’s Theorem, and the delta method"
   ]
  },
  {
   "cell_type": "markdown",
   "metadata": {},
   "source": [
    "## Central Limit Thorem (CLT)\n",
    "Let $X_1, X_2, X_3,...$ be a sequence of random variables where\n",
    "- $X_1, X_2, X_3,...$ are iid.\n",
    "- $M_X(t)$ exists (for some  $t$ in a neighborhood of 0)\n",
    "\n",
    "Let $E(X_i)=\\mu$ and $Var(X_i)=\\sigma^2>0, \\forall i$ and let $\\bar{X}_n=\\frac{1}{n}\\sum_{i=1}^n X_i$.\n",
    "\n",
    "Then, we can get $U_n=\\frac{\\sqrt{n}(\\bar{X}_n-\\mu)}{\\sigma}\\xrightarrow{d}Z$, where $Z\\sim N(0,1).$\n"
   ]
  },
  {
   "cell_type": "markdown",
   "metadata": {},
   "source": [
    "### Some notes on the CLT\n",
    "- $X_1,X_2,X_3,...$ can come from *any* distribution - with some minor conditions.\n",
    "- Here the condition is $M_X(t)$ exists\n",
    "    - This implies that both $E(X_i)$ and $Var(X_i)$ are finite.\n",
    "    - $X_n\\xrightarrow{d}X\\Leftrightarrow \\lim_{n\\to\\infty}M_{X_n}(t)=M_X(t)$, for ${t\\in(-\\epsilon,\\epsilon)}$\n",
    "- Recall: $M_Z(t)=e^{t^2/2}$\n",
    "- Stronger versions of CLT: Existence of $M_X(t)$ is not necessary, but do need finite variance\n",
    "    - Proof without mgfs is outside the scope of this course\n",
    "- CLT is the basis for normal approximation of so many things\n",
    "- How good is the CLT approximation?\n",
    "    - The CLT alone can't tell us that\n",
    "    - Accuracy of the approximation depends on the actual distribution of $X_1,X_2,X_3,...$"
   ]
  },
  {
   "cell_type": "markdown",
   "metadata": {},
   "source": [
    "### Helpful facts for proof of CLT\n",
    "- Some rules for the moment generating function (mgf)\n",
    "    \n",
    "    $\\frac{d^n}{dt^n}M(t)|_{t=0}=E(X^n)$\n",
    "    \n",
    "    $M_{aX+b}(t)=e^bM_X(at)$\n",
    "    \n",
    "    $M_{X_1+X_2+...+X_n}(t)=M_{X_1}(t)M_{X_2}(t)...M_{X_n}(t)$\n",
    "    \n",
    "    $\\text{If } X_1,X_2,...,X_n \\text{ are independent.}$\n",
    "- If $a_1,a_2,a_3,...$ is a sequence of numbers such that $\\lim_{n\\to\\infty}a_n=a$, then\n",
    "    \n",
    "    $\\lim_{n\\to\\infty}(1+\\frac{a_n}{n})^n=e^a$\n",
    "- Taylor series expansion of a function $f(x)$ around a constant $a$:\n",
    "    \n",
    "    $f(x)=\\sum_{i=1}^\\infty\\frac{(x-a)^i}{i!}\\frac{d^i}{dx^i}f(x)|_{x=a}$\n",
    "- Define: $\\frac{d^i}{dx^i}f(x)|_{x=a}=f^{(i)}(a)$\n",
    "- First terms of a Taylor expansion of $f(x)$ around $a$\n",
    "\n",
    "    $f(x)=f(a)+(x-a)f^{(1)}(a)+\\frac{(x-2)^2}{2}f^{(2)}(a)+R(x)$\n",
    "\n",
    "    where $\\lim_{x\\to a}\\frac{R(x)}{(x-a)^2}=0$"
   ]
  },
  {
   "cell_type": "markdown",
   "metadata": {},
   "source": [
    "### Proof of CLT\n",
    "Let $U_n=\\frac{\\sqrt{n}(\\bar{X}_n-\\mu)}{\\sigma},\\bar{X}_n=\\frac{1}{n}\\sum_{i=1}^nX_i$ and $Y_i=\\frac{X_i-\\mu}{\\sigma}$.\n",
    "- $E(Y_i)=0$, $V(Y_i)=1$ and $M_{Y_i}(t)=e^{-\\mu/\\sigma}M_{X_i}(t/\\sigma)$\n",
    "- $U_n=\\frac{1}{\\sqrt{n}}\\sum_{i=1}^n Y_i$\n",
    "    \n",
    "    $\\begin{aligned}\n",
    "    U_n &=\\frac{\\sqrt{n}(\\bar{X}_n-\\mu)}{\\sigma}\\\\\n",
    "        &=\\frac{\\sqrt{n}(\\frac{1}{n}\\sum_{i=1}^n X_i-\\mu)}{\\sigma}\\\\\n",
    "        &=\\frac{\\sqrt{n}(\\sum_{i=1}^n X_i-n\\mu)}{n\\sigma}\\\\\n",
    "        &=\\frac{\\sum_{i=1}^n (X_i-\\mu)}{\\sqrt{n}\\sigma}\\\\\n",
    "        &=\\frac{1}{\\sqrt{n}}\\sum_{i=1}^n\\frac{ (X_i-\\mu)}{\\sigma}\\\\\n",
    "        &=\\frac{1}{\\sqrt{n}}\\sum_{i=1}^nY_i\n",
    "    \\end{aligned}$\n",
    "    \n",
    "    Thus,\n",
    "    \n",
    "    $\\begin{aligned}\n",
    "    M_{U_n}(t)&=M_{\\frac{1}{\\sqrt{n}}\\sum_{i=1}^n Y_i}(t)\\\\\n",
    "              &=M_{\\sum_{i=1}^nY_i}(\\frac{1}{\\sqrt{n}} t)\\\\\n",
    "              &=M_{Y_1}(\\frac{t}{\\sqrt{n}})M_{Y_2}(\\frac{t}{\\sqrt{n}})...M_{Y_n}(\\frac{t}{\\sqrt{n}})\\\\\n",
    "              &=[M_{Y_n}(\\frac{t}{\\sqrt{n}})]^n\n",
    "    \\end{aligned}$\n"
   ]
  },
  {
   "cell_type": "markdown",
   "metadata": {},
   "source": [
    "According to the Taylor expansion of $M_Y(t/\\sqrt{n})$ around 0:\n",
    "\n",
    "$M_{Y_n}(t/\\sqrt{n})=M_{Y_n}(0)+(t/\\sqrt{n}-0)M_{Y_n}^{(1)}(0)+\\frac{1}{2}(t/\\sqrt{n}-0)^2M_{Y}^{(2)}(0)+R(t/\\sqrt{n})$\n",
    "\n",
    "- $M_{Y_n}(0)=E(e^{0Y_n})=E(1)=1$\n",
    "- $M_{Y_n}^{(1)}(0)=E(Y_n)=0$\n",
    "- $M_{Y_n}^{(2)}(0)=E(Y_n^2)=Var(Y_n)+E(Y_n)^2=1$\n",
    "\n",
    "Thus:\n",
    "\n",
    "$M_{U_n}(t)=(M_{Y_n}(t/\\sqrt{n}))^n=(1+\\frac{t^2/2+nR(t/\\sqrt{n})}{n})^n$\n",
    "- Let's set $a_n=\\frac{t^2}{2}+nR(t/\\sqrt{n})$ and $t/\\sqrt{n}\\to 0 \\Leftrightarrow n \\to \\infty$ \n",
    "    \n",
    "    $\\begin{aligned}\n",
    "    &\\lim_{t/\\sqrt{n}\\to 0}\\frac{R(x/\\sqrt{n})}{(t/\\sqrt{n})^2}=0\\\\\n",
    "    &\\Leftrightarrow \\lim_{t/\\sqrt{n}\\to 0}\\frac{nR(t/\\sqrt{n})}{t^2}=0\\\\\n",
    "    &\\Leftrightarrow \\lim_{t/\\sqrt{n}\\to 0} nR(t/\\sqrt{n}) = 0\\\\\n",
    "    &\\Leftrightarrow \\lim_{n\\to\\infty} R(t/\\sqrt{n}) = 0\\\\\n",
    "    &\\Leftrightarrow \\lim_{n\\to\\infty} a_n = t^2/2\\\\\n",
    "    \\end{aligned}$\n",
    "\n",
    "    $\\lim_{n\\to\\infty}M_{U_n}(t)=\\lim_{n\\to\\infty}(1+\\frac{a_n}{n})^n=e^{t^2/2}=M_Z(t)$\n",
    "- Therefore, $U_n\\xrightarrow{d}Z\\sim N(0,1)$"
   ]
  },
  {
   "cell_type": "markdown",
   "metadata": {},
   "source": [
    "### Example: Normal approx to the Binomial distribution\n",
    "- Let $X_1,X_2,X_3,...$ be iid. $Bernoulli(p)$ then\n",
    "\n",
    "    $E(X_i)=p$ and $Var(X_i)=p(1-p)$\n",
    "\n",
    "    and $Y=n\\bar{X}_n\\sim Binomial(n,p)$\n",
    "- CLT says $\\frac{\\sqrt{n}(\\bar{X}_n-p)}{\\sqrt{p(1-p)}}\\xrightarrow{d}N(0,1)$\n",
    "\n",
    "    For large $n$ we can use $N(0,1)$ as approximation for the distribution of \n",
    "\n",
    "    $\\frac{\\sqrt{n}(\\bar{X}_n-p)}{\\sqrt{p(1-p)}}=\\frac{Y-np}{\\sqrt{np(1-p)}}\\overset{approx}{\\sim}N(0,1)$\n",
    "\n",
    "    or: use $N(np,np(1-p))$ as an approx distribution for $Y$.\n",
    "\n",
    "    It is Normal approx of Binomial.\n",
    "- Say $Y\\sim Binomial(400,0.3)$ and we want to calculate\n",
    "\n",
    "    $P(Y\\leq100)=\\sum_{y=0}^{100}\\binom{400}{y}0.3^y 0.7^{400-y}$\n",
    "\n",
    "    (= 0.01553 using exact calculations in R)\n",
    "- Normal approximation:\n",
    "\n",
    "    $P(Y\\leq 100)\\approx P(Z\\leq\\frac{100-400\\cdot 0.3}{\\sqrt{400\\cdot 0.3\\cdot 0.7}})=\\phi(-2.1822)=0.01455$"
   ]
  },
  {
   "cell_type": "markdown",
   "metadata": {},
   "source": [
    "## Slutsky’s Theorem\n",
    "If $X_n\\overset{d}{\\to}X$ and $Y_n\\overset{p}{\\to}a$, where $a$ is a constant, then\n",
    "- $X_nY_n\\overset{d}{\\to}aX$\n",
    "- $X_n+Y_n\\overset{d}{\\to}X+a$\n",
    "\n",
    "Proof it outside the scope of this course\n",
    "\n",
    "Many of our approximate inference procedures actually rely on the CLT + Slutsky (and WLLN: $\\bar{X}\\overset{p}{\\to}\\mu$)\n"
   ]
  },
  {
   "cell_type": "markdown",
   "metadata": {},
   "source": [
    "### Example:\n",
    "- Show that $\\frac{\\bar{X}_n-\\mu}{S_n/\\sqrt{n}}\\overset{d}{\\to}N(0,1)$ meaning that $\\bar{x}\\pm Z_{\\alpha/2} S_n/\\sqrt{n}$ can be used as an approximate $100(1-\\alpha)$ confidence interval for the population mean for any distribution.\n",
    "    - $S_n=\\sqrt{S_n^2}$\n",
    "    - $S_n^2=\\frac{1}{n-1}\\sum_{i=1}^{n}(X_i-\\bar{X}_n)^2$\n",
    "    - $Z\\sim N(0,1)$"
   ]
  },
  {
   "cell_type": "markdown",
   "metadata": {},
   "source": [
    "#### Proof:\n",
    "$X_1,X_2,...,$ are iid, $E(X_i)=\\mu$, and $Var(X_i)=\\sigma, \\forall i$\n",
    "\n",
    "CLT gives: $\\frac{\\sqrt{n}(\\bar{X}_n-\\mu)}{\\sigma}\\overset{d}{\\to}Z,Z\\sim N(0,1)$\n",
    "\n",
    "According to the WLLN, $S_n^2\\overset{p}{\\to}\\sigma^2\\Rightarrow S_n\\overset{p}{\\to}\\sigma$.\n",
    "\n",
    "Let $h(x)=\\frac{\\sigma}{x}$, thus $\\frac{\\sigma}{S_n}\\overset{p}{\\to}\\frac{\\sigma}{\\sigma}=1$.\n",
    "\n",
    "By Slutsky: $\\frac{\\sqrt{n}(\\bar{X}_n-\\mu)}{\\sigma}\\frac{\\sigma}{S_n}=\\frac{\\sqrt{n}(\\bar{X}_n-\\mu)}{S_n}\\overset{d}{\\to}1\\cdot Z$\n",
    "\n",
    "Thus, $\\frac{\\bar{X}_n-\\mu}{S_n/\\sqrt{n}}\\overset{d}{\\to}N(0,1)\\sim Z$\n",
    "\n",
    "Rearranging the inequality for a confidence level of $100(1-\\alpha)%$, we obtain:\n",
    "\n",
    "$P\\left(-Z_{\\alpha/2} \\le \\frac{\\bar{X}_n - \\mu}{S_n / \\sqrt{n}} \\le Z_{\\alpha/2}\\right) \\approx 1 - \\alpha$\n",
    "\n",
    "$P\\left(\\bar{X}_n - Z_{\\alpha/2}\\frac{S_n}{\\sqrt{n}} \\le \\mu \\le \\bar{X}_n + Z_{\\alpha/2}\\frac{S_n}{\\sqrt{n}}\\right) \\approx 1 - \\alpha$\n",
    "\n",
    "Thus, the interval: $\\bar{x}\\pm Z_{\\alpha/2} S_n/\\sqrt{n}$."
   ]
  },
  {
   "cell_type": "markdown",
   "metadata": {},
   "source": [
    "### Example: approximate CI for $p$\n",
    "\n",
    "Let $X_1,X_2,X_3,...$ be iid. $Bernoulli(p)$. Show that $\\frac{\\overline{X}_{n}-p}{\\sqrt{\\frac{\\overline{X}_{n}(1-\\overline{X}_{n})}{n}}} \\xrightarrow{d} N(0,1)$, justifying our usual approximate $100(1-\\alpha)$ confidence interval for a population proportion.\n",
    "\n",
    "- $E(X_i)=p$\n",
    "- $Var(X_i)=p(1-p)$\n",
    "- $\\bar{X}_n=\\hat{p}_n$"
   ]
  },
  {
   "cell_type": "markdown",
   "metadata": {},
   "source": [
    "#### Proof:\n",
    "\n",
    "CLT: $\\frac{\\sqrt{n}(\\bar{X}_n-p)}{\\sqrt{p(1-p)}}\\overset{d}{\\to}N(0,1)$\n",
    "\n",
    "$\\Rightarrow \\frac{\\bar{X}_n-p}{\\sqrt{\\frac{p(1-p)}{n}}}\\overset{d}{\\to}N(0,1)$\n",
    "\n",
    "WLLN: $\\bar{X}_n\\overset{p}{\\to}p$\n",
    "\n",
    "Let $h(x)=\\frac{\\sqrt{p(1-p)}}{\\sqrt{x(1-x)}}$, thus $\\frac{\\sqrt{p(1-p)}}{\\sqrt{\\bar{X}_n(1-\\bar{X}_n)}}\\overset{p}{\\to}\\frac{\\sqrt{p(1-p)}}{\\sqrt{p(1-p)}}=1$\n",
    "\n",
    "By Slutsky: $\\frac{\\bar{X}_n-p}{\\sqrt{\\frac{p(1-p)}{n}}}\\cdot\\frac{\\sqrt{p(1-p)}}{\\sqrt{\\bar{X}_n(1-\\bar{X}_n)}}\\overset{d}{\\to}N(0,1)\\cdot 1$\n",
    "\n",
    "$\\Rightarrow\\frac{\\overline{X}_{n}-p}{\\sqrt{\\frac{\\overline{X}_{n}(1-\\overline{X}_{n})}{n}}} \\xrightarrow{d} N(0,1)$"
   ]
  },
  {
   "cell_type": "markdown",
   "metadata": {},
   "source": [
    "#### Example\n",
    "Let $X_1,X_2,X_3,...$ be iid. $Gamma(\\alpha,1)$. Show that $\\frac{\\sqrt{n}(\\bar{X}_n-\\alpha)}{\\sqrt{\\bar{X}_n}}\\xrightarrow{d} N(0,1)$.\n",
    "- $E(X_i)=\\alpha$\n",
    "- $Var(X_i)=\\alpha$"
   ]
  },
  {
   "cell_type": "markdown",
   "metadata": {},
   "source": [
    "CLT: $\\frac{\\sqrt{n}(\\bar{X}_n-\\alpha)}{\\sqrt{\\alpha}}\\overset{d}{\\to}N(0,1)$\n",
    "\n",
    "WLLN: $\\bar{X}_n\\overset{p}{\\to}\\alpha$\n",
    "\n",
    "Let $h(x)=\\frac{\\sqrt{\\alpha}}{\\sqrt{\\bar{X}_n}}$, thus $\\frac{\\sqrt{\\alpha}}{\\sqrt{\\bar{X}_n}}\\overset{p}{\\to}\\frac{\\sqrt{\\alpha}}{\\sqrt{\\alpha}}=1$\n",
    "\n",
    "By Slutsky: $\\frac{\\sqrt{n}(\\bar{X}_n-\\alpha)}{\\sqrt{\\alpha}}\\cdot\\frac{\\sqrt{\\alpha}}{\\sqrt{\\bar{X}_n}}\\xrightarrow{d} N(0,1)\\cdot 1$\n",
    "\n",
    "$\\Rightarrow\\frac{\\sqrt{n}(\\bar{X}_n-\\alpha)}{\\sqrt{\\bar{X}_n}}\\xrightarrow{d} N(0,1)$"
   ]
  },
  {
   "cell_type": "markdown",
   "metadata": {},
   "source": [
    "## Delta method\n",
    "- We have a handle on the limiting distribution of $\\bar{X}_n$ via the CLT:\n",
    "    $$\\frac{\\sqrt{n}(\\overline{X}_{n}-\\mu)}{\\sigma} \\xrightarrow{d} N(0,1)$$\n",
    "    equivalently:$$\\sqrt{n}(\\overline{X}_{n}-\\mu) \\xrightarrow{d}  N(0,\\sigma^{2})$$\n",
    "- What is the limiting distribution of $g(\\bar{X}_n)$?\n",
    "    - Usually also Normal, but need to determine the mean and variance\n",
    "    - Can approximate mean and variance of $g(\\bar{X}_n)$ via Taylor expansion of $g(\\cdot)$"
   ]
  },
  {
   "cell_type": "markdown",
   "metadata": {},
   "source": [
    "### Approx. mean and variance via Taylor expansion\n",
    "- Let $X$ be a random variable with mean $\\mu$ and variance $\\sigma^2$\n",
    "- Let $g(x)$ be a differentiable function\n",
    "- First order Taylor expansion of $g(x)$ around $\\mu$:\n",
    "\n",
    "    $g(x)\\approx g(\\mu)+g'(\\mu)(x-\\mu),$\n",
    "\n",
    "    $\\begin{aligned}\n",
    "    E(g(x))&\\approx E(g(\\mu)+g'(\\mu)(x-\\mu))\\\\\n",
    "           &= g(\\mu)+g'(\\mu)(E(x)-\\mu),(E(x)=\\mu)\\\\\n",
    "           &= g(\\mu)\n",
    "    \\end{aligned}$\n",
    "\n",
    "    So, e.g. $E(X^2)\\approx \\mu^2$, but not = i.e. $E(X^2)\\neq\\mu^2$\n",
    "\n",
    "    $\\begin{aligned}\n",
    "    Var(g(x))&\\approx Var(g(\\mu)+g'(\\mu)(x-\\mu))\\\\\n",
    "           &= (g'(\\mu))^2Var(x)\n",
    "    \\end{aligned}$\n",
    "\n",
    "    So, e.g. $Var(X^2)\\approx(2\\mu)^2\\sigma^2$, where $g(x)=x^2$ and $g'(x)=2x$."
   ]
  },
  {
   "cell_type": "markdown",
   "metadata": {},
   "source": [
    "#### Example: Sample odds\n",
    "- Let $X_1,X_2,X_3,...$ be iid. $Bernoulli(p)$ and $\\bar{X}_n=\\hat{p}$.\n",
    "- odds = $\\frac{p}{1-p}$\n",
    "- What is the limiting distribution of the sample odds? $\\hat{oods}=\\frac{\\hat{p}}{1-\\hat{p}}$"
   ]
  },
  {
   "cell_type": "markdown",
   "metadata": {},
   "source": [
    "#### Proof:\n",
    "- $E(X_i)=p=\\mu$\n",
    "- $Var(X_i)=p(1-p)=\\sigma^2$\n",
    "\n",
    "CLT: $\\overline{X}_{n}\\xrightarrow{d}  N(\\mu,\\sigma^{2}/n)$\n",
    "\n",
    "$E(\\bar{X}_n)=\\mu=\\hat{p}$ and $Var(\\bar{X}_n)=\\frac{\\sigma^2}{n}=\\frac{\\hat{p}(1-\\hat{p})}{n}$\n",
    "\n",
    "Let $g(x)=\\frac{x}{1-x}$, thus $g'(x)=\\frac{1}{(1-x)^2}$, according to $(\\frac{u}{v})'=\\frac{u'v-uv'}{v^2}$.\n",
    "\n",
    "$E(\\hat{odds})=E(g(\\bar{X}_n))=g(\\hat{p})=\\frac{\\hat{p}}{1-\\hat{p}}$\n",
    "\n",
    "$Var(\\hat{odds})=Var(g(\\bar{X}_n))=(g'(\\hat{p}))^2Var(\\bar{X}_n)=\\frac{1}{(1-\\hat{p})^4}\\cdot\\frac{\\hat{p}(1-\\hat{p})}{n}=\\frac{\\hat{p}}{n(1-\\hat{p})^3}$"
   ]
  },
  {
   "cell_type": "markdown",
   "metadata": {},
   "source": [
    "## Delta method\n",
    "### Theorem:\n",
    "Let $Y_1,Y_2,...,Y_n$ be a sequence of random variables where\n",
    "\n",
    "$\\sqrt{n}(Y_n-\\mu)\\overset{d}{\\to}N(0,\\sigma^2)$\n",
    "\n",
    "- always $Y_n=\\bar{X}_n$, according to the CLT.\n",
    "\n",
    "and $\\theta$ is a constant. Let $g(y)$ be a function where $g'(\\theta)$ exists and is not zero. Then\n",
    "\n",
    "$\\sqrt{n}(g(Y_n)-g(\\theta))\\overset{d}{\\to}N(0,\\sigma^2g'(\\theta)^2)$\n",
    "\n",
    "- Approx Variance: $\\sigma^2g'(\\theta)^2$\n",
    "\n",
    "Proof... Taylor expansion and Slutsky - see textbook."
   ]
  },
  {
   "cell_type": "markdown",
   "metadata": {},
   "source": [
    "#### Example: Sample odds\n",
    "- Let $X_1,X_2,X_3,...$ be iid. $Bernoulli(p)$ and $\\bar{X}_n=\\hat{p}$.\n",
    "- odds = $\\frac{p}{1-p}$\n",
    "- What is the limiting distribution of the sample odds? $\\hat{oods}=\\frac{\\hat{p}}{1-\\hat{p}}$\n",
    "\n",
    "CLT: $\\sqrt{n}(\\bar{X}_n-\\mu)\\overset{d}{\\to}N(0,\\sigma^2)$\n",
    "\n",
    "Delta Method: $g(x)=\\frac{x}{1-x}, g'(x)=\\frac{1}{(1-x)^2}$\n",
    "\n",
    "$\\Rightarrow \\sqrt{n}(g(\\bar{X}_n)-g(p))\\overset{d}{\\to}N(0,\\sigma^2g'(p)^2)$\n",
    "\n",
    "$\\Rightarrow \\sqrt{n}(\\frac{\\bar{X}_n}{1-\\bar{X}_n}-\\frac{p}{1-p})\\overset{d}{\\to}N(0,\\frac{p}{(1-p)^3})$\n",
    "\n",
    "$\\Rightarrow \\frac{\\hat{p}}{1-\\hat{p}}\\pm Z_{\\alpha/2}\\sqrt{\\frac{\\hat{p}}{(1-\\hat{p})^3n}}$"
   ]
  },
  {
   "cell_type": "markdown",
   "metadata": {},
   "source": [
    "### Second order Delta method\n",
    "\n",
    "#### Theorem:\n",
    "\n",
    "Let $Y_1,Y_2,...,Y_n$ be a sequence of random variables where\n",
    "\n",
    "$\\sqrt{n}(Y_n-\\theta)\\overset{d}{\\to}N(0,\\sigma^2)$\n",
    "\n",
    "and $\\theta$ is a constant. Let $g(y)$ be a function where $g'(\\theta)=0$, but $g''(\\theta)$ exists and is not zero. Then \n",
    "\n",
    "$\\sqrt{n}(g(Y_{n})-g(\\theta)) \\xrightarrow{d} \\sigma^{2}\\frac{g^{\\prime\\prime}(\\theta)}{2}X$\n",
    "\n",
    "where $X\\sim\\chi_1^2$\n",
    "\n",
    "Further extension: Multivariate Delta Method (skip)"
   ]
  }
 ],
 "metadata": {
  "language_info": {
   "name": "python"
  }
 },
 "nbformat": 4,
 "nbformat_minor": 2
}
