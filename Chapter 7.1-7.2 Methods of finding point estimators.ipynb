{
 "cells": [
  {
   "cell_type": "markdown",
   "metadata": {},
   "source": [
    "# Methods of finding point estimators\n",
    "1. Method of Moments\n",
    "2. Maximum Likelihood\n",
    "    - Examples\n",
    "    - Invariance property\n",
    "3. Bayes Estimators\n",
    "    - Binomial-Beta model\n",
    "    - Proportionality argument\n",
    "    - Normal-Normal model"
   ]
  },
  {
   "cell_type": "markdown",
   "metadata": {},
   "source": [
    "## Statistical Inference"
   ]
  },
  {
   "cell_type": "markdown",
   "metadata": {},
   "source": [
    "- **Model**: Distribution of the population can be described with a\n",
    "distribution function (pmf or pdf) of a known form but with\n",
    "unknown parameters.\n",
    "    $$f(x|\\theta_1,...,\\theta_k)$$\n",
    "    - So if we know the values of the parameters, we know all there is to\n",
    "know about the population.\n",
    "    - Sometimes the parameter values $\\theta_j$ have interpretable or physical meaning\n",
    "        - E.g. population proportion of some trait of interest\n",
    "    - Sometimes we are interested in a function of a parameter $\\tau(\\theta_j)$\n",
    "- **Inference**: Have a sample $X_1,X_2,...,X_n$ from $f(x|\\theta)$ and want to use it to learn about the values of $\\theta$."
   ]
  },
  {
   "cell_type": "markdown",
   "metadata": {},
   "source": [
    "## Point estimation\n",
    "\n",
    "### Point estimator\n",
    "\n",
    "A point estimator is any function $W(X_1,X_2,...,X_n)$ of a sample\n",
    "- Any *statistic* is a point estimator\n",
    "\n",
    "### A point estimate\n",
    "A *point estimate* is the realized value of a point estimator.\n",
    "\n",
    "Estimator: $\\bar{X}=\\frac{1}{n}\\sum_{i=1}^{n}X_i$\n",
    "\n",
    "Estimate: $\\bar{x}=\\frac{1}{n}\\sum_{i=1}^{n}x_i$\n",
    "\n",
    "- where $x_1,x_2,...,x_n$ are the realized (obsereved) values of the sample $X_1,X_2,...,X_n$"
   ]
  },
  {
   "cell_type": "markdown",
   "metadata": {},
   "source": [
    "## Method of Moments (MOM)\n",
    "\n",
    "A sample $X_1,X_2,...,X_n$ from a population with pmf/pdf $f(x|\\theta_1,...,\\theta_k)$"
   ]
  }
 ],
 "metadata": {
  "language_info": {
   "name": "python"
  }
 },
 "nbformat": 4,
 "nbformat_minor": 2
}
