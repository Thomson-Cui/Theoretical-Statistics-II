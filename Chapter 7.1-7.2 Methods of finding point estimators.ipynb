{
 "cells": [
  {
   "cell_type": "markdown",
   "metadata": {},
   "source": [
    "# Methods of finding point estimators\n",
    "1. Method of Moments\n",
    "2. Maximum Likelihood\n",
    "    - Examples\n",
    "    - Invariance property\n",
    "3. Bayes Estimators\n",
    "    - Binomial-Beta model\n",
    "    - Proportionality argument\n",
    "    - Normal-Normal model"
   ]
  },
  {
   "cell_type": "markdown",
   "metadata": {},
   "source": [
    "## Statistical Inference"
   ]
  },
  {
   "cell_type": "markdown",
   "metadata": {},
   "source": [
    "- **Model**: Distribution of the population can be described with a\n",
    "distribution function (pmf or pdf) of a known form but with\n",
    "unknown parameters.\n",
    "    $$f(x|\\theta_1,...,\\theta_k)$$\n",
    "    - So if we know the values of the parameters, we know all there is to\n",
    "know about the population.\n",
    "    - Sometimes the parameter values $\\theta_j$ have interpretable or physical meaning\n",
    "        - E.g. population proportion of some trait of interest\n",
    "    - Sometimes we are interested in a function of a parameter $\\tau(\\theta_j)$\n",
    "- **Inference**: Have a sample $X_1,X_2,...,X_n$ from $f(x|\\theta)$ and want to use it to learn about the values of $\\theta$."
   ]
  },
  {
   "cell_type": "markdown",
   "metadata": {},
   "source": [
    "## Point estimation\n",
    "\n",
    "### Point estimator\n",
    "\n",
    "A point estimator is any function $W(X_1,X_2,...,X_n)$ of a sample\n",
    "- Any *statistic* is a point estimator\n",
    "\n",
    "### A point estimate\n",
    "A *point estimate* is the realized value of a point estimator.\n",
    "\n",
    "Estimator: $\\bar{X}=\\frac{1}{n}\\sum_{i=1}^{n}X_i$\n",
    "\n",
    "Estimate: $\\bar{x}=\\frac{1}{n}\\sum_{i=1}^{n}x_i$\n",
    "\n",
    "- where $x_1,x_2,...,x_n$ are the realized (obsereved) values of the sample $X_1,X_2,...,X_n$"
   ]
  },
  {
   "cell_type": "markdown",
   "metadata": {},
   "source": [
    "## Method of Moments (MOM)\n",
    "\n",
    "A sample $X_1,X_2,...,X_n$ from a population with pmf/pdf $f(x|\\theta_1,...,\\theta_k)$\n",
    "- idea: Match the first $k$ sample moments with population moments and solve for parameters\n",
    "- Define sample moments\n",
    "\n",
    "    $m_1 = \\frac{1}{n} \\sum_{i=1}^{n} X_i^1$\n",
    "\n",
    "    $m_2 = \\frac{1}{n} \\sum_{i=1}^{n} X_i^2$\n",
    "\n",
    "    $\\vdots$\n",
    "\n",
    "    $m_k = \\frac{1}{n} \\sum_{i=1}^{n} X_i^k$\n",
    "- Population moments: $\\mathbf{X}\\sim f(\\mathbf{X}|\\mathbf{\\theta})$\n",
    "\n",
    "    $\\mu_{1}^{\\prime}=E(X^{1}), \\mu_{2}^{\\prime}=E(X^{2}), \\ldots, \\mu_{k}^{\\prime}=E(X^{k})$\n",
    "\n",
    "    are usually functions of $\\theta_1,...,\\theta_k$"
   ]
  },
  {
   "cell_type": "markdown",
   "metadata": {},
   "source": [
    "- Get $k$ equations with $k$ unknowns:\n",
    "    \n",
    "    $m_1 = \\mu_1'(\\theta_1, ..., \\theta_k)$\n",
    "\n",
    "    $m_2 = \\mu_2'(\\theta_1, ..., \\theta_k)$\n",
    "\n",
    "    $\\vdots$\n",
    "\n",
    "    $m_k = \\mu_k'(\\theta_1, ..., \\theta_k)$\n",
    "\n",
    "    Solution will be functions of $m_1,...,m_k$\n",
    "\n",
    "    $\\hat{\\theta}_j = h_j(m_1, ..., m_k) \\quad j = 1, ..., k$\n",
    "\n",
    "If some population moments $\\mu_1'$ are zero, continue with higher order moments until you have $k$ equations."
   ]
  },
  {
   "cell_type": "markdown",
   "metadata": {},
   "source": [
    "### Examples of MOMs\n",
    "\n",
    "A sample $X_1,X_2,...,X_n$ from a population with pmf/pdf $f(x|\\theta_1,...,\\theta_k)$. Find the MOM estimators for these populations:\n",
    "\n",
    "1. $N(\\mu,\\sigma^2)$\n",
    "2. $Poisson(\\lambda)$\n",
    "3. $Gamma(\\alpha,\\beta)$\n",
    "4. $t_v$\n",
    "\n",
    "Possible problems with MOM estimators\n",
    "- Don't always exist\n",
    "- May give estimates that are not in the parameter space\n",
    "- not always unique - can use higher moments or central moments"
   ]
  },
  {
   "cell_type": "markdown",
   "metadata": {},
   "source": [
    "#### Example 1: $N(\\mu,\\sigma^2)$\n",
    "\n",
    "$X_1,X_2,...,X_n\\sim N(\\mu,\\sigma^2)$\n",
    "\n",
    "**Population Moments:**\n",
    "\n",
    "- $\\mu_1'=E(X)=\\mu$\n",
    "\n",
    "- $\\mu_2'=E(X^2)=\\sigma^2+\\mu^2$\n",
    "\n",
    "**Set $m_k=\\mu_k'$**\n",
    "\n",
    "- $m_1=\\frac{1}{n} \\sum_{i=1}^{n} X_i=E(X)=\\bar{X}$\n",
    "- $m_2=\\frac{1}{n} \\sum_{i=1}^{n} X_i^2=E(X^2)=Var(X)+E(X)=Var(X)+m_1^2$\n",
    "\n",
    "**Solution will be functions of $m_1,...,m_k$**\n",
    "\n",
    "- $\\hat{\\mu}_{MOM}=m_1=\\frac{1}{n} \\sum_{i=1}^{n} X_i=\\bar{X}$\n",
    "- $\\hat{\\sigma}^{2}_{MOM}=m_2-m_1^2=\\frac{1}{n} \\sum_{i=1}^{n} X_i^2-\\bar{X}^2=\\frac{1}{n}\\sum_{i=1}^{n}(X_i-\\bar{X})^2$\n",
    "\n",
    "Compare to the sample variance $S^2=\\frac{1}{n-1}\\sum_{i=1}^n(X_i-\\bar{X})^2$, we can get:\n",
    "\n",
    "- The **MOM variance estimator** is **biased downward** by a factor of $ \\frac{n-1}{n} $, meaning it underestimates the true variance.\n",
    "- The **unbiased sample variance** $ S^2 $ corrects this bias using $ \\frac{1}{n-1} $ instead of $ \\frac{1}{n} $.\n",
    "- **For large samples**, the two estimates are nearly the same.\n",
    "\n"
   ]
  },
  {
   "cell_type": "markdown",
   "metadata": {},
   "source": [
    "#### Example 2: $Poisson(\\lambda)$\n",
    "\n",
    "**Population Moments**:\n",
    "\n",
    "- $\\mu_1'=E(X)=\\lambda$\n",
    "\n",
    "**Set $m_k=\\mu_k'$**\n",
    "\n",
    "- $m_1=\\frac{1}{n} \\sum_{i=1}^{n} X_i=\\bar{X}=\\lambda$\n",
    "\n",
    "**Solution will be functions of $m_1,...,m_k$**\n",
    "\n",
    "- $\\hat{\\lambda}_{MOM}=m_1=\\frac{1}{n} \\sum_{i=1}^{n} X_i=\\bar{X}$"
   ]
  },
  {
   "cell_type": "markdown",
   "metadata": {},
   "source": [
    "#### Example 3: $Gamma(\\alpha,\\beta)$\n",
    "- $E(X)=\\alpha\\beta$\n",
    "- $Var(X)=\\alpha\\beta^2$\n",
    "- $E(X^2)=\\alpha\\beta^2+(\\alpha\\beta)^2$\n",
    "- $m_1=\\alpha\\beta$\n",
    "- $m_2=\\alpha\\beta^2+(\\alpha\\beta)^2$\n",
    "    - $\\beta=\\frac{m_2-m_1^2}{m_1}$\n",
    "    - $\\alpha=\\frac{m_1^2}{m_2-m_1^2}$\n",
    "\n",
    "Since $m_1=\\bar{X}, m_2=\\frac{1}{n} \\sum_{i=1}^{n} X_i^2$,\n",
    "\n",
    "$\\Rightarrow \\hat{\\beta}_{MOM}=\\frac{m_2-m_1^2}{m_1}=\\frac{\\frac{1}{n} \\sum_{i=1}^{n} X_i^2-\\bar{X}^2}{\\bar{X}}=\\frac{\\frac{1}{n}\\sum_{i=1}^{n} (X_i^2-\\bar{X}^2)}{\\bar{X}}$\n",
    "\n",
    "$\\Rightarrow\\hat{\\alpha}_{MOM}=\\frac{\\bar{X}^2}{\\frac{1}{n}\\sum_{i=1}^{n} (X_i^2-\\bar{X}^2)}$\n"
   ]
  },
  {
   "cell_type": "markdown",
   "metadata": {},
   "source": [
    "#### Example 4: $t_v$\n",
    "\n",
    "$X_1,X_2,...,X_n$ iid $t_v$, where $v$ is a unknow parameter, and $v\\in\\{1,2,3,...\\}$\n",
    "\n",
    "If $X\\sim t_v$ and $v>2$, then:\n",
    "\n",
    "- $E(X)=0$\n",
    "- $Var(X)=\\frac{v}{v-2}$\n",
    "- $E(X^2)=\\frac{v}{v-2}$\n",
    "- $m_1=0$\n",
    "- $m_2=\\frac{v}{v-2}$\n",
    "    - $v=\\frac{2m_2}{m_2-1}$\n",
    "\n",
    "Since $m_2=\\frac{1}{n} \\sum_{i=1}^{n} X_i^2$, then:\n",
    "\n",
    "$\\hat{v}_{MOM}=\\frac{\\frac{2}{n}\\sum_{i=1}^n X_i^2}{\\frac{1}{n}\\sum_{i=1}^n X_i^2 -1}$, through observing, if $\\frac{1}{n}\\sum_{i=1}^n X_i^2 \\neq 1$, then $\\hat{v}_{MOM}$ has meaning.\n",
    "\n",
    "If $\\hat{v}_{MOM}$ is not a integer, in practice we would round to next integer."
   ]
  },
  {
   "cell_type": "markdown",
   "metadata": {},
   "source": [
    "## Maximum Likelihood Estimators"
   ]
  },
  {
   "cell_type": "markdown",
   "metadata": {},
   "source": [
    "### Lilelihood Function\n",
    "The joint pdf or pmf of a sample $X_1,...,X_n$ is called a **Likelihood function** when considered a function of it's parameters.\n",
    "\n",
    "$L(\\theta|\\mathbf{x})=f(\\mathbf{x}|\\theta),\\theta\\in\\Theta$\n",
    "\n",
    "- When $X_1,...,X_n$ is a random sample we have\n",
    "\n",
    "    $L(\\theta|\\mathbf{x})=f(\\mathbf{x}|\\theta)=\\prod_{i=1}^nf(x_i|\\theta)$\n",
    "- Log-Likelihood function: $\\ell(\\theta \\mid \\mathbf{X}) = \\log(L(\\theta \\mid \\mathbf{X}))$"
   ]
  },
  {
   "cell_type": "markdown",
   "metadata": {},
   "source": [
    "### Maximum likelihood estimator (MLE)\n",
    "For each possible observation $\\mathbf{x}$ let $\\hat{\\theta}(\\mathbf{x})$ be the parameter value that maximizes $L(\\theta|\\mathbf{x})$. Then the statistic\n",
    "\n",
    "$\\hat{\\theta}(\\mathbf{X})$ is called the Maximum Likelihood Estimator of $\\theta$.\n",
    "\n",
    "- Intuition: Given the data we observed, pick the value of $\\theta$ that makes the likelihood (and therefore the joint pdf) the largest.\n",
    "    - I.E. pick the parameter that makes the data \"most likely\"\n",
    "- By restricting the optimization to the parameter space $\\Theta$, we get estimates that are valid parameter values.\n",
    "- Has the same problems as any optimization problem - global maximum may not exist or may be hard to find."
   ]
  },
  {
   "cell_type": "code",
   "execution_count": 2,
   "metadata": {},
   "outputs": [
    {
     "data": {
      "image/png": "[encoded data removed]",
      "text/plain": [
       "<IPython.core.display.Image object>"
      ]
     },
     "execution_count": 2,
     "metadata": {},
     "output_type": "execute_result"
    }
   ],
   "source": [
    "from IPython.display import Image\n",
    "Image(filename=\"Images\\\\MLE.png\")"
   ]
  },
  {
   "cell_type": "markdown",
   "metadata": {},
   "source": [
    "### Finding Maximum Likelihood Estimators\n",
    "- Differentiation\n",
    "    1. Find extreme points in the interior of $\\Theta$ by setting the first derivative equal to zero\n",
    "    2. Check whether points give maximum (e.g. using second derivatives)\n",
    "    3. Check boundary points\n",
    "- Monotone functions\n",
    "    - Often useful when domain depends on the parameter\n",
    "- Often easier to maximize the Log-likelihood - it gives the same result since\n",
    "    \n",
    "    $\\hat{\\theta}(\\mathbf{x}) = \\arg \\max_{\\theta \\in \\Theta} L(\\theta \\mid \\mathbf{x}) = \\arg \\max_{\\theta \\in \\Theta} \\ell(\\theta \\mid \\mathbf{x})$\n"
   ]
  },
  {
   "cell_type": "markdown",
   "metadata": {},
   "source": [
    "### Finding maximum using one variable calculus\n",
    "- If the likelihood function is differentiable (w.r.t $\\theta$) the MLE can be found easily: Set\n",
    "\n",
    "    $\\frac{d}{d\\theta}L(\\theta|\\mathbf{x})=0$ or, if easier: $\\frac{d}{d\\theta}\\ell(\\theta|\\mathbf{x})=0$\n",
    "\n",
    "    and solve for $\\theta$ to find the extreme points in the interior of $\\Theta$\n",
    "\n",
    "    $\\frac{d^{2}}{d\\theta^{2}}L(\\theta|x)|_{\\theta=\\hat{\\theta}}<0$ or: $\\frac{d^{2}}{d\\theta^{2}}\\ell(\\theta|x)|_{\\theta=\\hat{\\theta}}<0$\n",
    "\n",
    "    where $\\hat{\\theta}$ is the solution from above.\n",
    "- If $\\Theta$ is bounded, check whether the boundary points of give a larger value of $L(\\theta|\\mathbf{x})$ or $\\ell(\\theta|\\mathbf{x})$\n",
    "\n"
   ]
  },
  {
   "cell_type": "markdown",
   "metadata": {},
   "source": [
    "#### Example 1: Poisson($\\lambda$)\n",
    "Let $X_1,X_2,...,X_n$ be a random sample from $Poisson(\\lambda)$. Find the MLE of $\\lambda$.\n",
    "\n",
    "$f(x_i|\\lambda)=\\frac{e^{-\\lambda}\\lambda^{x_i}}{x_i!}$ where $x_i\\in\\{0,1,2,3,...\\}$ and $\\lambda>0$.\n",
    "\n",
    "$\\begin{aligned}\n",
    "L(\\theta|\\mathbf{x})&=f(\\mathbf{x}|\\lambda)\\\\\n",
    "                  &=\\prod_{i=1}^n\\frac{e^{-\\lambda}\\lambda^{x_i}}{x_i!}\\\\\n",
    "                  &=e^{-n\\lambda}\\lambda^{\\sum_{i=1}^n x_i}\\prod_{i=1}^n \\frac{1}{x_i!}\n",
    "\\end{aligned}$\n",
    "\n",
    "$\\ell(\\theta|\\mathbf{x})=-n\\lambda+n\\bar{x}log(\\lambda)+log(\\prod_{i=1}^n\\frac{1}{x_i})$"
   ]
  },
  {
   "cell_type": "markdown",
   "metadata": {},
   "source": [
    "$\\frac{d}{d\\lambda}\\ell(\\lambda)=-n+\\frac{n\\bar{x}}{\\lambda}+0=0$\n",
    "\n",
    "$\\Rightarrow \\lambda = \\bar{x}$\n",
    "\n",
    "$\\frac{d^2}{d\\lambda^2}\\ell(\\lambda)=-\\frac{n\\bar{x}}{\\lambda^2}<0$\n",
    "\n",
    "Boundary: since $\\lambda>0$, $L(0)=0 < L(\\bar{x})=e^{-n\\bar{x}}\\bar{x}^{n\\bar{x}}\\prod_{i=1}^n \\frac{1}{x_i!}$"
   ]
  },
  {
   "cell_type": "markdown",
   "metadata": {},
   "source": [
    "#### Example 2: Discrete distribution\n",
    "Let $X$ be a discrete random variable with pmf that depends on $\\theta$ and $\\theta\\in\\{0,1,2,3\\}$. The pmf, for different values of $\\theta$:\n",
    "\n",
    "$\n",
    "\\begin{array}{c|cccc}\n",
    "f(x \\mid \\theta) & 1 & 2 & 3 & 4 \\\\\n",
    "\\hline\n",
    "\\theta = 0 & \\frac{1}{4} & \\frac{1}{4} & \\frac{1}{4} & \\frac{1}{4} \\\\\n",
    "\\theta = 1 & \\frac{1}{2} & 0 & 0 & \\frac{1}{2} \\\\\n",
    "\\theta = 2 & \\frac{1}{3} & \\frac{1}{3} & \\frac{1}{3} & 0 \\\\\n",
    "\\theta = 3 & 0 & \\frac{1}{2} & 0 & \\frac{1}{2} \\\\\n",
    "\\end{array}\n",
    "$\n",
    "\n",
    "Find the MLE for $\\theta$\n",
    "\n",
    "##### Only one observation\n",
    "\n",
    "- $x=1 \\text{ gives highest } L(\\theta), \\text{ with } \\theta = 1$\n",
    "- $x=2 \\text{ gives highest } L(\\theta), \\text{ with } \\theta = 3$\n",
    "- $x=3 \\text{ gives highest } L(\\theta), \\text{ with } \\theta = 2$\n",
    "- $x=4 \\text{ gives highest } L(\\theta), \\text{ with } \\theta = 1\\text{ or }3$"
   ]
  },
  {
   "cell_type": "markdown",
   "metadata": {},
   "source": [
    "$\\hat{\\theta}_{MLE}=\\begin{cases}\n",
    "                    1,&x=1\\\\\n",
    "                    3,&x=2\\\\\n",
    "                    2,&x=3\\\\\n",
    "                    1\\text{ or }3,&x=4\n",
    "                    \\end{cases}$"
   ]
  },
  {
   "cell_type": "markdown",
   "metadata": {},
   "source": [
    "##### 2 observations\n",
    "\n",
    "$\\hat{\\theta}_{MLE} =\n",
    "\\begin{cases}\n",
    "1, & (x_1, x_2) = (1,1) \\text{ or } (1,4) \\text{ or } (4,4)\\\\\n",
    "2, & (x_1, x_2) = (3,3) \\text{ or } (1,3) \\text{ or } (2,3) \\text{ or } (1,2)\\\\\n",
    "3, & (x_1, x_2) = (2,2) \\text{ or } (2,4) \\text{ or } (3,4) \\text{ or } (4,4)\\\\\n",
    "\\end{cases}$"
   ]
  },
  {
   "cell_type": "markdown",
   "metadata": {},
   "source": [
    "#### Example 3: Uniform\n",
    "Let $X_1,X_2,...,X_n$ be a random sample from $Uniform(0,\\theta)$, $\\theta>0$. Find the MLE for $\\theta$.\n",
    "\n",
    "$f(x_i|\\theta)=\\frac{1}{\\theta}I_{(0,\\theta)}(x_i),\\theta>0$\n",
    "\n",
    "$\\begin{aligned}\n",
    "L(\\theta)&=\\prod_{i=1}^n\\frac{1}{\\theta}I_{(0,\\theta)}(X_i)\\\\\n",
    "         &=\\frac{1}{\\theta^n}\\prod_{i=1}^n I_{(0,\\theta)}(X_i)\\\\\n",
    "         &=\\frac{1}{\\theta^n}I_{(0,\\infty)}(X_{(1)})I_{(X_{(n)},\\infty)}(\\theta)\n",
    "\\end{aligned}$\n",
    "\n",
    "Thus $L(\\theta)=0$ for $\\theta < X_{(n)}$.\n",
    "\n",
    "When $\\theta \\geq X_{(n)}$, $L(\\theta)=\\frac{1}{\\theta^n}$.\n",
    "\n",
    "$\\frac{d}{d\\theta}L(\\theta)=-n\\frac{1}{\\theta^{n+1}}<0$.\n",
    "\n",
    "The $L(\\theta)$ is monotone decreasing, $\\theta \\geq X_{(n)}$.\n",
    "\n",
    "When $\\theta = X_{(n)}$, it has the maximum.\n",
    "\n",
    "In the whole range of $\\theta$, $\\theta = X_{(n)}$ also makes $L(\\theta)$ maximum.\n",
    "\n",
    "Therefore, $\\hat{\\theta}_{MLE}=X_{(n)}$."
   ]
  },
  {
   "cell_type": "markdown",
   "metadata": {},
   "source": [
    "#### Example 4: Another uniform distribution\n",
    "Let $X_1,X_2,...,X_n$ be a random sample from $Uniform(\\theta-\\frac{1}{2},\\theta+\\frac{1}{2})$. Find the MLE for $\\theta$.\n",
    "\n",
    "Pdf: $f(x_i)=I_{(\\theta-\\frac{1}{2},\\theta+\\frac{1}{2})}(x_i)$\n",
    "\n",
    "Joint pdf: \n",
    "\n",
    "$\\begin{aligned}\n",
    "            L(\\theta)&=\\prod_{i=1}^n I_{(\\theta-\\frac{1}{2},\\theta+\\frac{1}{2})}(x_i)\\\\\n",
    "                     &=\\begin{cases}1,&X_{(1)}>\\theta-\\frac{1}{2},X_{(n)}<\\theta+\\frac{1}{2}\\\\0,&\\text{otherwise}\\\\\\end{cases}\\\\\n",
    "                     &=I_{(X_{(n)}-\\frac{1}{2},X_{(1)}+\\frac{1}{2})}(\\theta),\\theta\\in\\mathbb{R}\n",
    "            \\end{aligned}$\n",
    "\n",
    "Therefore, $\\hat{\\theta}_{MLE}=$ any value in $(X_{(n)}-\\frac{1}{2},X_{(1)}+\\frac{1}{2})$."
   ]
  },
  {
   "cell_type": "markdown",
   "metadata": {},
   "source": [
    "#### Example 5: Normal distribution\n",
    "Let $X_1,X_2,...,X_n$ be a random sample from $N(\\mu,\\sigma^2)$. Find the MLE for $\\mu$ and $\\sigma^2$."
   ]
  },
  {
   "cell_type": "markdown",
   "metadata": {},
   "source": [
    "$\\begin{aligned}\n",
    "L(\\mu, \\sigma^2) &= \\prod_{i=1}^{n} \\frac{1}{\\sqrt{2\\pi} \\sigma} \\exp\\left(-\\frac{(x_i - \\mu)^2}{2 \\sigma^2}\\right)\\\\\n",
    "                 &= (2\\pi)^{-n/2} (\\sigma^2)^{-n/2} \\exp\\left(-\\frac{1}{2\\sigma^2} \\sum_{i=1}^{n} (x_i - \\mu)^2\\right)\n",
    "\\end{aligned}$\n",
    "\n",
    "$\\ell(\\mu, \\sigma^2) = -\\frac{n}{2} [\\log(2\\pi)] - \\frac{n}{2} [\\log(\\sigma^2)] - \\frac{1}{2\\sigma^2} \\sum_{i=1}^{n} (x_i - \\mu)^2$"
   ]
  },
  {
   "cell_type": "markdown",
   "metadata": {},
   "source": [
    "$\\begin{aligned}\\frac{\\partial}{\\partial \\mu} \\ell(\\mu, \\sigma^2) \n",
    "& = \\frac{\\partial}{\\partial \\mu} \\left( -\\frac{1}{2\\sigma^2} \\sum_{i=1}^{n} (x_i - \\mu)^2 \\right) \\\\\n",
    "& = \\frac{\\partial}{\\partial \\mu} \\left( -\\frac{1}{2\\sigma^2} \\sum_{i=1}^{n} (x_i^2 - 2x_i\\mu + \\mu^2) \\right) \\\\\n",
    "& = -\\frac{1}{2\\sigma^2} \\sum_{i=1}^{n} (-2x_i + 2\\mu) \\\\\n",
    "& = \\frac{1}{\\sigma^2} \\left( \\sum_{i=1}^{n} x_i - n\\mu \\right)\n",
    "\\end{aligned}$"
   ]
  },
  {
   "cell_type": "markdown",
   "metadata": {},
   "source": [
    "Set $\\frac{\\partial}{\\partial \\mu} \\ell(\\mu, \\sigma^2) = 0$, then we can get: $\\mu=\\frac{1}{n}\\sum_{i=1}^{n} x_i=\\bar{x}$"
   ]
  },
  {
   "cell_type": "markdown",
   "metadata": {},
   "source": [
    "$\\begin{aligned}\\frac{\\partial}{\\partial \\sigma^2} \\ell(\\mu, \\sigma^2) \n",
    "&= \\frac{\\partial}{\\partial \\sigma^2} \\left( -\\frac{n}{2} \\log(2\\pi) \\right) + \\frac{\\partial}{\\partial \\sigma^2} \\left( -\\frac{n}{2} \\log(\\sigma^2) \\right) + \\frac{\\partial}{\\partial \\sigma^2} \\left( -\\frac{1}{2\\sigma^2} \\sum_{i=1}^{n} (x_i - \\mu)^2 \\right)\\\\\n",
    "&= \\frac{1}{2\\sigma^4} \\left( \\sum_{i=1}^{n} (x_i - \\mu)^2 - n\\sigma^2 \\right)\n",
    "\\end{aligned}$"
   ]
  },
  {
   "cell_type": "markdown",
   "metadata": {},
   "source": [
    "Set $\\frac{\\partial}{\\partial \\sigma^2} \\ell(\\mu, \\sigma^2) = 0$, then we can get: $\\sigma^2 = \\frac{1}{n} \\sum_{i=1}^{n} (x_i - \\bar{x})^2$\n",
    "\n",
    "**Mixed Second Derivative:**\n",
    "\n",
    "$\\frac{\\partial^2 \\ell}{\\partial \\mu \\partial \\sigma^2} = \\frac{\\partial^2 \\ell}{\\partial \\sigma^2 \\partial \\mu}= -\\frac{1}{\\sigma^4} \\sum_{i=1}^{n} (x_i - \\mu)$\n",
    "\n",
    "Since $\\mu=\\bar{x}$, then $\\frac{\\partial^2 \\ell}{\\partial \\mu \\partial \\sigma^2}=0$\n",
    "\n",
    "**Compute the Hessian Determinant:**\n",
    "\n",
    "$\\begin{aligned}\n",
    "H = \\left[ \\begin{array}{ccc}\n",
    "\\frac{\\partial^2 \\ell}{\\partial\\mu^2} & \\frac{\\partial^2 \\ell}{\\partial\\mu\\partial\\sigma^2} \\\\\n",
    "\\frac{\\partial^2 \\ell}{\\partial\\sigma^2\\partial\\mu} & \\frac{\\partial^2 \\ell}{\\partial(\\sigma^2)^2}\n",
    "\\end{array} \\right] \n",
    "= \\left[ \\begin{array}{ccc}\n",
    "-\\frac{n}{\\sigma^2} & 0 \\\\\n",
    "0 & -\\frac{n}{2\\sigma^4}\n",
    "\\end{array} \\right]\n",
    "\\end{aligned}$"
   ]
  },
  {
   "cell_type": "markdown",
   "metadata": {},
   "source": [
    "$\\left(-\\frac{n}{\\sigma^2}\\right) \\left(-\\frac{n}{2\\sigma^4}\\right) - (0 \\cdot 0) = \\frac{n^2}{2\\sigma^6}>0$\n",
    "\n",
    "Thus, $(\\hat{\\mu},\\hat{\\sigma}^2) = (\\bar{x},\\frac{1}{n} \\sum_{i=1}^{n} (x_i - \\bar{x})^2)$\n",
    "\n",
    "Therefore, $\\ell(\\mu, \\sigma^2)$ has a **local maximum** at $(\\hat{\\mu},\\hat{\\sigma}^2)$."
   ]
  },
  {
   "cell_type": "markdown",
   "metadata": {},
   "source": [
    "### Finding maximum using two variable calculus\n",
    "\n",
    "To verify that a function $L(\\theta_1,\\theta_2|\\mathbf{x})$ has a *local* maximum at $(\\hat{\\theta_1},\\hat{\\theta_2})$ the following three conditions must hold.\n",
    "\n",
    "#### 1. First order partial derivatives are zero\n",
    "\n",
    "$\\left.\\frac{\\partial}{\\partial\\theta_{1}}L(\\theta_{1},\\theta_{2}|\\mathbf{x})\\right|_{\n",
    "\\begin{array}\n",
    "{l}\\theta_{1}=\\hat{\\theta}_{1}, \\\\\n",
    "\\theta_{2}=\\hat{\\theta}_{2}\n",
    "\\end{array}}=0\\quad\\mathrm{and}\\quad\\left.\\frac{\\partial}{\\partial\\theta_{2}}L(\\theta_{1},\\theta_{2}|\\mathbf{x})\\right|_{\n",
    "\\begin{array}\n",
    "{l}\\theta_{1}=\\hat{\\theta}_{1}, \\\\\n",
    "\\theta_{2}=\\hat{\\theta}_{2}\n",
    "\\end{array}}=0$"
   ]
  },
  {
   "cell_type": "markdown",
   "metadata": {},
   "source": [
    "#### 2. At least one second-order partial derivatives is negative\n",
    "\n",
    "$\\left.\\frac{\\partial^2}{\\partial\\theta_1^2}L(\\theta_1,\\theta_2\\mid\\mathbf{x})\\right|_{\n",
    "\\begin{array}\n",
    "{l}\\theta_1=\\hat{\\theta}_1, \\\\\n",
    "\\theta_2=\\hat{\\theta}_2\n",
    "\\end{array}}<0\\quad\\mathrm{or}\\quad\\left.\\frac{\\partial^2}{\\partial\\theta_2^2}L(\\theta_1,\\theta_2\\mid\\mathbf{x})\\right|_{\n",
    "\\begin{array}\n",
    "{l}\\theta_1=\\hat{\\theta}_1, \\\\\n",
    "\\theta_2=\\hat{\\theta}_2\n",
    "\\end{array}}<0$"
   ]
  },
  {
   "cell_type": "markdown",
   "metadata": {},
   "source": [
    "#### 3. The Jacobian of the second order partial derivatives is positive\n",
    "\n",
    "$\n",
    "\\begin{vmatrix}\n",
    "\\frac{\\partial^{2}}{\\partial\\theta_{1}^{2}} L(\\theta_1, \\theta_2 | \\mathbf{x}) & \\frac{\\partial^{2}}{\\partial\\theta_1 \\partial\\theta_2} L(\\theta_1, \\theta_2 | \\mathbf{x}) \\\\\n",
    "\\frac{\\partial^{2}}{\\partial\\theta_2 \\partial\\theta_1} L(\\theta_1, \\theta_2 | \\mathbf{x}) & \\frac{\\partial^{2}}{\\partial\\theta_2^{2}} L(\\theta_1, \\theta_2 | \\mathbf{x}) \n",
    "\\end{vmatrix}_{\\theta_1 = \\hat{\\theta}_1, \\theta_2 = \\hat{\\theta}_2} > 0\n",
    "$"
   ]
  },
  {
   "cell_type": "markdown",
   "metadata": {},
   "source": [
    "### MLE for the Normal distribution\n",
    "- Let $X_1,X_2,...,X_n$ be a random sample from $N(\\mu,\\sigma^2)$\n",
    "- We saw that the MLE for $\\mu$ and $\\sigma^2$ are\n",
    "\n",
    "    $\\hat{\\mu}^{\\mathrm{MLE}}=\\overline{X}\\quad\\mathrm{~and~}\\quad(\\widehat{\\sigma^{2}})^{\\mathrm{MLE}}=\\frac{1}{n}\\sum_{i=1}^{n}(X_{i}-\\overline{X})^{2}$\n",
    "- Note that\n",
    "\n",
    "    $(\\widehat{\\sigma^{2}})^{\\mathrm{MLE}}=(\\widehat{\\sigma^{2}})^{\\mathrm{MOM}}=\\frac{n-1}{n}S^{2}\\quad\\mathrm{~where~}\\quad S^{2}=\\frac{1}{n-1}\\sum_{i=1}^{n}(X_{i}-\\overline{X})^{2}$\n",
    "- MLE for the standard deviation $\\sigma$?"
   ]
  },
  {
   "cell_type": "markdown",
   "metadata": {},
   "source": [
    "## Invariance property of MLEs\n",
    "Theorem: Invariance property of MLE\n",
    "\n",
    "If $\\hat{\\theta}$ is the MLE of $\\theta$, then for any function $\\tau(\\cdot)$, the MLE of $\\tau(\\theta)$ is $\\tau(\\hat{\\theta})$.\n",
    "\n",
    "Example:\n",
    "- $X_1,X_2,...,X_n$ are iid $N(\\mu,\\sigma^2)$\n",
    "- Since MLE for $\\sigma^2$ is \n",
    "    \n",
    "    $(\\widehat{\\sigma^{2}})^{\\mathrm{MLE}}=\\frac{1}{n}\\sum_{i=1}^{n}(X_{i}-\\overline{X})^{2}$\n",
    "\n",
    "    we get that the MLE for $\\sigma=\\sqrt{\\sigma^2}$ is\n",
    "\n",
    "    $(\\widehat{\\sigma})^{\\mathrm{MLE}}=\\sqrt{\\frac{1}{n}\\sum_{i=1}^{n}(X_{i}-\\overline{X})^{2}}$"
   ]
  },
  {
   "cell_type": "markdown",
   "metadata": {},
   "source": [
    "## Bayes Estimators\n"
   ]
  },
  {
   "cell_type": "markdown",
   "metadata": {},
   "source": [
    "#### Frequentist Inference\n",
    "Frequentist inference is a framework for statistical estimation and hypothesis testing based on the idea that probability represents long-run frequencies of events. The key components of frequentist inference include:\n",
    "\n",
    "1. **Random Sample**:  \n",
    "   Given a dataset $X_1, X_2, \\dots, X_n$, we assume that these observations are drawn independently from some underlying distribution with a probability density (or mass) function $ f(\\mathbf{x} \\mid \\theta) $.\n",
    "\n",
    "2. **Parameter as a Fixed Constant**:  \n",
    "   The parameter $\\theta$ is considered an unknown but fixed constant. Unlike Bayesian inference, which treats parameters as random variables with prior distributions, frequentist inference assumes that $\\theta$ has a true but unknown value.\n",
    "\n",
    "3. **Learning About $\\theta$**:  \n",
    "   Using the observed data $ x_1, x_2, \\dots, x_n $, we estimate $\\theta$ by:\n",
    "   - Constructing an **estimator**, which is a function of the sample (e.g., sample mean, sample variance, maximum likelihood estimate).\n",
    "   - Analyzing the **sampling distribution** of the estimator, which describes its behavior over repeated samples from the population.\n",
    "\n",
    "Common frequentist methods include:\n",
    "- **Point estimation**: Finding a single best estimate of $\\theta$, such as using the Maximum Likelihood Estimator (MLE) or Method of Moments (MOM).\n",
    "- **Confidence intervals**: Providing a range of plausible values for $\\theta$.\n",
    "- **Hypothesis testing**: Testing assumptions about $\\theta$ using methods like t-tests or likelihood ratio tests.\n"
   ]
  },
  {
   "cell_type": "markdown",
   "metadata": {},
   "source": [
    "#### Bayesian Inference\n",
    "1. $X_1,X_2,...,X_n$ is a random sample from $ f(\\mathbf{x} \\mid \\theta) $.\n",
    "    - But the \"likelihood\" $ f(\\mathbf{x} \\mid \\theta) $ is view as the joint *conditional* pmf/pdf of  $X_1,X_2,...,X_n$ given $\\theta$.\n",
    "2. $\\theta$ is a random variable with a prior distribution $p(\\theta)$.\n",
    "3. Use observed data $x_1,x_2,...,x_n$ to learn about $\\theta$\n",
    "    - By obtaining the posterior distribution $p(\\theta\\mid\\mathbf{x})$\n",
    "4. The posterior mean of $\\theta$ is called the Baysian estimator of $\\theta$\n",
    "\n",
    "    $\\hat{\\theta}^B=E(\\theta|\\mathbf{X}=\\mathbf{x})$\n",
    "\n",
    "    - Like any other point estimator, $\\hat{\\theta}^B$ is a function of $X_1,...,X_n$ (a statistic)"
   ]
  },
  {
   "cell_type": "markdown",
   "metadata": {},
   "source": [
    "#### AI for Bayesian Inference\n",
    "Bayesian inference is a statistical approach that incorporates prior beliefs about a parameter $\\theta$ and updates these beliefs using observed data. The key components are:  \n",
    "\n",
    "1. **Random Sample and Likelihood Function**:  \n",
    "   - Given a dataset $X_1, X_2, \\dots, X_n$, we assume that these observations are drawn from a probability distribution with a density (or mass) function $ f(\\mathbf{x} \\mid \\theta) $.  \n",
    "   - In Bayesian inference, $ f(\\mathbf{x} \\mid \\theta) $ is interpreted as the **likelihood function**, which expresses the probability of observing the data given a particular value of $\\theta$.  \n",
    "\n",
    "2. **Parameter as a Random Variable**:  \n",
    "   - Unlike frequentist inference, Bayesian inference treats the unknown parameter $\\theta$ as a **random variable**.  \n",
    "   - We assume a prior distribution $ p(\\theta) $, which represents our beliefs about $\\theta$ before seeing any data.  \n",
    "\n",
    "3. **Learning About $\\theta$ Using the Posterior Distribution**:  \n",
    "   - After observing data $x_1, x_2, \\dots, x_n$, we update our belief about $\\theta$ using **Bayes’ theorem**:  \n",
    "     $\n",
    "     p(\\theta \\mid \\mathbf{x}) = \\frac{f(\\mathbf{x} \\mid \\theta) p(\\theta)}{p(\\mathbf{x})}\n",
    "     $\n",
    "     where  \n",
    "     - $ p(\\theta \\mid \\mathbf{x}) $ is the **posterior distribution**, which represents the updated beliefs about $\\theta$ after seeing the data.  \n",
    "     - $ p(\\mathbf{x}) = \\int f(\\mathbf{x} \\mid \\theta) p(\\theta) d\\theta $ is the **marginal likelihood** (or evidence), ensuring the posterior is properly normalized.  \n",
    "\n",
    "This posterior distribution provides a **full probabilistic description** of the uncertainty about $\\theta$, rather than just a single point estimate like MLE only one point for ($\\hat{\\mu},\\hat{\\sigma}^2$).  \n",
    "\n",
    "##### **Key Bayesian Methods**:  \n",
    "- **Point Estimation**: Using the posterior mean $E[\\theta \\mid \\mathbf{x}]$, median, or mode (MAP estimate).  \n",
    "- **Credible Intervals**: A Bayesian analog to confidence intervals, giving a range where $\\theta$ lies with high probability.  \n",
    "- **Predictive Inference**: Using the posterior to predict future observations by computing the **posterior predictive distribution**:  \n",
    "  $\n",
    "  p(x_{\\text{new}} \\mid \\mathbf{x}) = \\int f(x_{\\text{new}} \\mid \\theta) p(\\theta \\mid \\mathbf{x}) d\\theta.\n",
    "  $\n"
   ]
  }
 ],
 "metadata": {
  "kernelspec": {
   "display_name": "base",
   "language": "python",
   "name": "python3"
  },
  "language_info": {
   "codemirror_mode": {
    "name": "ipython",
    "version": 3
   },
   "file_extension": ".py",
   "mimetype": "text/x-python",
   "name": "python",
   "nbconvert_exporter": "python",
   "pygments_lexer": "ipython3",
   "version": "3.9.13"
  }
 },
 "nbformat": 4,
 "nbformat_minor": 2
}
