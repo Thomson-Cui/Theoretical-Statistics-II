{
 "cells": [
  {
   "cell_type": "markdown",
   "metadata": {},
   "source": [
    "# Central Limit Theorem, Slutsky’s Theorem, and the delta method"
   ]
  },
  {
   "cell_type": "markdown",
   "metadata": {},
   "source": [
    "## Central Limit Thorem (CLT)\n",
    "Let $X_1, X_2, X_3,...$ be a sequence of random variables where\n",
    "- $X_1, X_2, X_3,...$ are iid.\n",
    "- $M_X(t)$ exists (for some  $t$ in a neighborhood of 0)\n",
    "\n",
    "Let $E(X_i)=\\mu$ and $Var(X_i)=\\sigma^2>0, \\forall i$ and let $\\bar{X}_n=\\frac{1}{n}\\sum_{i=1}^n X_i$.\n",
    "\n",
    "Then, we can get $U_n=\\frac{\\sqrt{n}(\\bar{X}_n-\\mu)}{\\sigma}\\xrightarrow{p}Z$, where $Z\\sim N(0,1).$\n"
   ]
  },
  {
   "cell_type": "markdown",
   "metadata": {},
   "source": [
    "### Some notes on the CLT\n",
    "- $X_1,X_2,X_3,...$ can come from *any* distribution - with some minor conditions.\n",
    "- Here the condition is $M_X(t)$ exists\n",
    "    - This implies that both $E(X_i)$ and $Var(X_i)$ are finite.\n",
    "    - $X_n\\xrightarrow{d}X\\Leftrightarrow \\lim_{n\\to\\infty}M_{X_n}(t)=M_X(t)$, for ${t\\in(-\\epsilon,\\epsilon)}$\n",
    "- Recall: $M_Z(t)=e^{t^2/2}$\n",
    "- Stronger versions of CLT: Existence of $M_X(t)$ is not necessary, but do need finite variance\n",
    "    - Proof without mgfs is outside the scope of this course\n",
    "- CLT is the basis for normal approximation of so many things\n",
    "- How good is the CLT approximation?\n",
    "    - The CLT alone can't tell us that\n",
    "    - Accuracy of the approximation depends on the actual distribution of $X_1,X_2,X_3,...$"
   ]
  },
  {
   "cell_type": "markdown",
   "metadata": {},
   "source": [
    "### Helpful facts for proof of CLT\n",
    "- Some rules for the moment generating function (mgf)\n",
    "    \n",
    "    $\\frac{d^n}{dt^n}M(t)|_{t=0}=E(X^n)$\n",
    "    \n",
    "    $M_{aX+b}(t)=e^bM_X(at)$\n",
    "    \n",
    "    $M_{X_1+X_2+...+X_n}(t)=M_{X_1}(t)M_{X_2}(t)...M_{X_n}(t)$\n",
    "    \n",
    "    $\\text{If } X_1,X_2,...,X_n \\text{ are independent.}$\n",
    "- If $a_1,a_2,a_3,...$ is a sequence of numbers such that $\\lim_{n\\to\\infty}a_n=a$, then\n",
    "    \n",
    "    $\\lim_{n\\to\\infty}(1+\\frac{a_n}{n})^n=e^a$\n",
    "- Taylor series expansion of a function $f(x)$ around a constant $a$:\n",
    "    \n",
    "    $f(x)=\\sum_{i=1}^\\infty\\frac{(x-a)^i}{i!}\\frac{d^i}{dx^i}f(x)|_{x=a}$\n",
    "- Define: $\\frac{d^i}{dx^i}f(x)|_{x=a}=f^{(i)}(a)$\n",
    "- First terms of a Taylor expansion of $f(x)$ around $a$\n",
    "\n",
    "    $f(x)=f(a)+(x-a)f^{(1)}(a)+\\frac{(x-2)^2}{2}f^{(2)}(a)+R(x)$\n",
    "\n",
    "    where $\\lim_{x\\to a}\\frac{R(x)}{(x-a)^2}=0$"
   ]
  },
  {
   "cell_type": "markdown",
   "metadata": {},
   "source": [
    "### Proof of CLT\n",
    "Let $U_n=\\frac{\\sqrt{n}(\\bar{X}_n-\\mu)}{\\sigma},\\bar{X}_n=\\frac{1}{n}\\sum_{i=1}^nX_i$ and $Y_i=\\frac{X_i-\\mu}{\\sigma}$.\n",
    "- $E(Y_i)=0$, $V(Y_i)=1$ and $M_{Y_i}(t)=e^{-\\mu/\\sigma}M_{X_i}(t/\\sigma)$\n",
    "- $U_n=\\frac{1}{\\sqrt{n}}\\sum_{i=1}^n Y_i$\n",
    "    \n",
    "    $\\begin{aligned}\n",
    "    U_n=&\\frac{\\sqrt{n}(\\bar{X}_n-\\mu)}{\\sigma}\\\\\n",
    "        &=\\frac{\\sqrt{n}(\\frac{1}{n}\\sum_{i=1}^n X_i-\\mu)}{\\sigma}\\\\\n",
    "        &=\\frac{\\sqrt{n}(\\sum_{i=1}^n X_i-n\\mu)}{n\\sigma}\\\\\n",
    "        &=\\frac{\\sum_{i=1}^n (X_i-\\mu)}{\\sqrt{n}\\sigma}\\\\\n",
    "        &=\\sqrt{n}\\sum_{i=1}^n\\frac{ (X_i-\\mu)}{\\sigma}\\\\\n",
    "        &=\\sqrt{n}\\sum_{i=1}^nY_i\n",
    "    \\end{aligned}$\n",
    "    \n",
    "    Thus,\n",
    "    \n",
    "    $\\begin{aligned}\n",
    "    M_{U_n}(t)&=M_{\\frac{1}{\\sqrt{n}}\\sum_{i=1}^n Y_i}(t)\\\\\n",
    "              &=M_{\\sum_{i=1}^nY_i}(\\frac{1}{\\sqrt{n}} t)\\\\\n",
    "              &=M_{Y_1}(\\frac{t}{\\sqrt{n}})M_{Y_2}(\\frac{t}{\\sqrt{n}})...M_{Y_n}(\\frac{t}{\\sqrt{n}})\\\\\n",
    "              &=[M_{Y_n}(\\frac{t}{\\sqrt{n}})]^n\n",
    "    \\end{aligned}$\n"
   ]
  },
  {
   "cell_type": "markdown",
   "metadata": {},
   "source": [
    "According to the Taylor expansion of $M_Y(t/\\sqrt{n})$ around 0:\n",
    "\n",
    "$M_{Y_n}(t/\\sqrt{n})=M_{Y_n}(0)+(t/\\sqrt{n}-0)M_{Y_n}^{(1)}(0)+\\frac{1}{2}(t/\\sqrt{n}-0)^2M_{Y}^{(2)}(0)+R(t/\\sqrt{n})$\n",
    "\n",
    "- $M_{Y_n}(0)=E(e^{0Y_n})=E(1)=1$\n",
    "- $M_{Y_n}^{(1)}(0)=E(Y_n)=0$\n",
    "- $M_{Y_n}^{(2)}(0)=E(Y_n^2)=Var(Y_n)+E(Y_n)^2=1$\n",
    "\n",
    "Thus:\n",
    "\n",
    "$M_{U_n}(t)=(M_{Y_n}(t/\\sqrt{n}))^n=(1+\\frac{t^2/2+nR(t/\\sqrt{n})}{n})^n$\n",
    "- Let's set $a_n=\\frac{t^2}{2}+nR(t/\\sqrt{n})$ and $t/\\sqrt{n}\\to 0 \\Leftrightarrow n \\to \\infty$ \n",
    "    \n",
    "    $\\begin{aligned}\n",
    "    &\\lim_{t/\\sqrt{n}\\to 0}\\frac{R(x/\\sqrt{n})}{(t/\\sqrt{n})^2}=0\\\\\n",
    "    &\\Leftrightarrow \\lim_{t/\\sqrt{n}\\to 0}\\frac{nR(t/\\sqrt{n})}{t^2}=0\\\\\n",
    "    &\\Leftrightarrow \\lim_{t/\\sqrt{n}\\to 0} nR(t/\\sqrt{n}) = 0\\\\\n",
    "    &\\Leftrightarrow \\lim_{n\\to\\infty} R(t/\\sqrt{n}) = 0\\\\\n",
    "    &\\Leftrightarrow \\lim_{n\\to\\infty} a_n = t^2/2\\\\\n",
    "    \\end{aligned}$\n",
    "\n",
    "    $\\lim_{n\\to\\infty}M_{U_n}(t)=\\lim_{n\\to\\infty}(1+\\frac{a_n}{n})^n=e^{t^2/2}=M_Z(t)$\n",
    "- Therefore, $U_n\\xrightarrow{d}Z\\sim N(0,1)$"
   ]
  },
  {
   "cell_type": "markdown",
   "metadata": {},
   "source": [
    "### Example: Normal approx to the Binomial distribution\n",
    "- Let $X_1,X_2,X_3,...$ be iid. $Bernoulli(p)$ then\n",
    "\n",
    "    $E(X_i)=p$ and $Var(X_i)=p(1-p)$\n",
    "\n",
    "    and $Y=n\\bar{X}_n\\sim Binomial(n,p)$\n",
    "- CLT says $\\frac{\\sqrt{n}(\\bar{X}_n-p)}{\\sqrt{p(1-p)}}\\xrightarrow{d}N(0,1)$\n",
    "\n",
    "    For large $n$ we can use $N(0,1)$ as approximation for the distribution of \n",
    "\n",
    "    $\\frac{\\sqrt{n}(\\bar{X}_n-p)}{\\sqrt{p(1-p)}}=\\frac{Y-np}{\\sqrt{np(1-p)}}\\overset{approx}{\\sim}N(0,1)$\n",
    "\n",
    "    or: use $N(np,np(1-p))$ as an approx distribution for $Y$.\n",
    "\n",
    "    It is Normal approx of Binomial.\n",
    "- Say $Y\\sim Binomial(400,0.3)$ and we want to calculate\n",
    "\n",
    "    $P(Y\\leq100)=\\sum_{y=0}^{100}\\binom{400}{y}0.3^y 0.7^{400-y}$\n",
    "\n",
    "    (= 0.01553 using exact calculations in R)\n",
    "- Normal approximation:\n",
    "\n",
    "    $P(Y\\leq 100)\\approx P(Z\\leq\\frac{100-400\\cdot 0.3}{\\sqrt{400\\cdot 0.3\\cdot 0.7}})=\\phi(-2.1822)=0.01455$"
   ]
  },
  {
   "cell_type": "markdown",
   "metadata": {},
   "source": [
    "## Slutsky’s Theorem\n",
    "If $X_n\\overset{d}{\\to}X$ and $Y_n\\overset{p}{\\to}a$, where $a$ is a constant, then\n",
    "- $X_nY_n\\overset{d}{\\to}aX$"
   ]
  },
  {
   "cell_type": "markdown",
   "metadata": {},
   "source": []
  },
  {
   "cell_type": "markdown",
   "metadata": {},
   "source": []
  }
 ],
 "metadata": {
  "language_info": {
   "name": "python"
  }
 },
 "nbformat": 4,
 "nbformat_minor": 2
}
